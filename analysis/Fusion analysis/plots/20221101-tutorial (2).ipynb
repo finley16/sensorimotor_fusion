{
 "cells": [
  {
   "cell_type": "code",
   "execution_count": null,
   "id": "3ab621d8-ae99-449b-bb6a-3fa6f909f8d6",
   "metadata": {},
   "outputs": [],
   "source": [
    "import pickle\n",
    "import numpy as np\n",
    "import pandas as pd\n",
    "import seaborn as sns\n",
    "import matplotlib as mpl\n",
    "import matplotlib.pyplot as plt\n",
    "\n",
    "with open('TIME.pkl','rb') as file:\n",
    "    TIME = pickle.load(file)\n",
    "    \n",
    "data_dict = dict(subject=[], condition=[], trial=[], t=[], \n",
    "                 Md=[], r=[], y=[], Wr=[], d=[], u=[], u0=[] ,u1=[])\n",
    "\n",
    "for s in TIME: # subject\n",
    "    for c in TIME[s]: # condition\n",
    "        N = len(TIME[s][c]['r']) # number of trials\n",
    "        T = len(TIME[s][c]['r'][0]) # number of time points per trial\n",
    "        first = True\n",
    "        for v in TIME[s][c]: # variable\n",
    "            for n in range(N): # trial\n",
    "                array = TIME[s][c][v][n]\n",
    "                if v=='d': # FIX shape of the 'd' variable\n",
    "                    data_dict[v] += list(np.hstack(array))\n",
    "                else:\n",
    "                    data_dict[v] += list(array)\n",
    "                if first: data_dict['trial'] += ([n]*T)\n",
    "            first = False\n",
    "                \n",
    "        data_dict['subject'] += ([int(s[7:])]*T*N)\n",
    "        data_dict['condition']+=([int(c[9:])]*T*N)\n",
    "        data_dict['t'] += [*list(range(T))]*N\n",
    "\n",
    "        \n",
    "DF = pd.DataFrame(data_dict)\n",
    "DF"
   ]
  },
  {
   "cell_type": "markdown",
   "id": "93369248-2257-4a27-a163-694fa55a91fc",
   "metadata": {},
   "source": [
    "# multimodal EMG + joystick experiment\n",
    "\n",
    "CPHS paper\n",
    "\n",
    "\n",
    "* $r$: reference\n",
    "* $y$: output\n",
    "* $d$: disturbance\n",
    "* $u$: user input\n",
    "\n",
    "\n",
    "$\\ddot y = u+d-a\\dot y$\n",
    "\n",
    "\n",
    "* $u0$: EMG data\n",
    "* $u1$: joystick data\n",
    "\n",
    "* condition #2: equal weighting"
   ]
  },
  {
   "cell_type": "code",
   "execution_count": null,
   "id": "465e7c0e-540a-4064-8877-28e1e71ad456",
   "metadata": {},
   "outputs": [],
   "source": [
    "DF.loc[:,'mse'] = (DF.r-DF.y)**2 \n",
    "DF.loc[:,'effort'] = DF.u**2 \n",
    "DF.loc[:,'effort_u0'] = DF.u0**2 \n",
    "DF.loc[:,'effort_u1'] = DF.u1**2"
   ]
  },
  {
   "cell_type": "code",
   "execution_count": null,
   "id": "e6cdd7ee-6b28-4b7a-a233-01a19e69a745",
   "metadata": {},
   "outputs": [],
   "source": [
    "fig, axs = plt.subplots(nrows=2)\n",
    "\n",
    "df = DF.groupby(['subject','condition','trial']).get_group((0,0,0))\n",
    "\n",
    "COLOR_R = 'red'\n",
    "COLOR_U = 'blue'\n",
    "COLOR_Y = 'grey'\n",
    "COLOR_E = 'black'\n",
    "\n",
    "axs[0].plot(df.t, df.r, color=COLOR_R)\n",
    "axs[0].plot(df.t, df.u, color=COLOR_U)\n",
    "axs[0].legend(['reference ($r$)','input ($u$)'])\n",
    "axs[1].plot(df.t, df.y, color=COLOR_Y)\n",
    "axs[1].plot(df.t, df.mse, color=COLOR_E)\n",
    "axs[1].legend(['mse','output ($y$)'])\n",
    "axs[1].set(xlabel='t')\n",
    "axs[0].set(title='single trial')\n",
    "\n",
    "plt.savefig('figure.svg', bbox_inches='tight')"
   ]
  },
  {
   "cell_type": "code",
   "execution_count": null,
   "id": "e7b6f836-7bc2-4642-8422-719ee3e98d1b",
   "metadata": {},
   "outputs": [],
   "source": [
    "df = DF.groupby('subject').mean()\n",
    "sort = np.log(df.mse.sort_values())\n",
    "rank = [int(_) for _ in sort.index]\n",
    "\n",
    "plt.plot(list(sort))\n",
    "plt.xticks(range(len(sort)))\n",
    "plt.gca().set_xticklabels(rank)\n",
    "plt.title('ranked performace (lower is better)')\n",
    "plt.xlabel('subject id')\n",
    "plt.ylabel('mse')"
   ]
  },
  {
   "cell_type": "code",
   "execution_count": null,
   "id": "ced1cc04-4d03-437f-9d70-915d18a81bad",
   "metadata": {},
   "outputs": [],
   "source": [
    "\n",
    "df = DF.groupby(['subject','condition','trial']).mean()\n",
    "data_q1 = df.groupby('trial').mse.quantile([1/4])\n",
    "data_q2 = df.groupby('trial').mse.quantile([2/4])\n",
    "data_q3 = df.groupby('trial').mse.quantile([3/4])\n",
    "\n",
    "plt.fill_between(range(len(data_q1)),list(data_q1),list(data_q3),alpha=0.3)\n",
    "plt.plot(list(data_q2))\n",
    "plt.xlabel('trial')\n",
    "plt.ylabel('mse')\n",
    "plt.title('mean squared error over trials')"
   ]
  },
  {
   "cell_type": "code",
   "execution_count": null,
   "id": "8e5f460d-dea4-429f-8c80-769cf265576f",
   "metadata": {},
   "outputs": [],
   "source": [
    "df = DF.groupby(['subject','condition','t']).mean()\n",
    "data_q1 = df.groupby('t').mse.quantile([1/4])\n",
    "data_q2 = df.groupby('t').mse.quantile([2/4])\n",
    "data_q3 = df.groupby('t').mse.quantile([3/4])\n",
    "\n",
    "plt.fill_between(range(len(data_q1)),list(data_q1),list(data_q3),alpha=0.3)\n",
    "plt.plot(list(data_q2))\n",
    "plt.xlabel('t')\n",
    "plt.ylabel('mse')\n",
    "plt.title('mean squared error over time')\n",
    "#sns.lineplot(data=df, x='t',y='mse')"
   ]
  },
  {
   "cell_type": "code",
   "execution_count": null,
   "id": "88ef70f3-86fe-40de-813f-04e46fd32244",
   "metadata": {},
   "outputs": [],
   "source": [
    "plt.hist(np.log(DF.effort_u0),range=[-8,0],bins=100)\n",
    "plt.figure()\n",
    "plt.hist(np.log(DF.effort_u1),range=[-8,0],bins=100)\n",
    "pass"
   ]
  },
  {
   "cell_type": "code",
   "execution_count": null,
   "id": "40cf8ec6-55a8-4d6f-892b-51f1096c6ddc",
   "metadata": {},
   "outputs": [],
   "source": [
    "df = DF.groupby(['subject','condition']).mean().reset_index()\n",
    "sns.boxplot(data=df,x='condition',y='mse')\n",
    "plt.yscale('log')\n",
    "plt.title('mean squared error per condition')"
   ]
  },
  {
   "cell_type": "code",
   "execution_count": null,
   "id": "20bfc099-218f-4164-8b9b-fe919515a8f7",
   "metadata": {},
   "outputs": [],
   "source": [
    "df = DF.groupby(['subject','condition']).mean().reset_index()\n",
    "sns.boxplot(data=df,x='condition',y='effort')\n",
    "plt.yscale('log')\n",
    "plt.title('mean effort of per condition')"
   ]
  },
  {
   "cell_type": "code",
   "execution_count": null,
   "id": "75365e55-2241-44a6-807d-476ab887cdab",
   "metadata": {},
   "outputs": [],
   "source": [
    "fig,ax = plt.subplots()\n",
    "DF.hist('u',label='u',ax=ax,bins=100)\n",
    "plt.title('histogram of actions')\n",
    "plt.legend()"
   ]
  },
  {
   "cell_type": "code",
   "execution_count": null,
   "id": "f61c1887-3d0c-481e-8d4d-f05687c392b3",
   "metadata": {},
   "outputs": [],
   "source": [
    "def plot_hist2d(x,y):\n",
    "    print(x, 'vs', y)\n",
    "    FIGSIZE=(8,8)\n",
    "\n",
    "    fig, axs = plt.subplots(nrows=1,ncols=7,figsize=(3*7,3))\n",
    "\n",
    "    for ax, condition in zip(axs, range(7)):\n",
    "        df = DF.groupby('condition').get_group(condition)\n",
    "        ax.hist2d(df[x], df[y], bins=100, norm=mpl.colors.LogNorm(), cmap=mpl.cm.gray_r)\n",
    "        ax.set(xlabel=x)\n",
    "        ax.set(xticks=[-1,-.5,0,.5,1],yticks=[])\n",
    "        ax.set(xlim=[-1,1],ylim=[-1,1])\n",
    "        ax.set(title='condition '+str(condition))\n",
    "    axs[0].set(ylabel=y,yticks=[-1,-.5,0,.5,1])\n",
    "    plt.show()\n",
    "\n",
    "plot_hist2d('u0','u1')\n",
    "plot_hist2d('u0','y')\n",
    "plot_hist2d('u1','y')\n",
    "plot_hist2d('u','d')\n",
    "plot_hist2d('r','y')\n"
   ]
  }
 ],
 "metadata": {
  "kernelspec": {
   "display_name": "Python 3",
   "language": "python",
   "name": "python3"
  },
  "language_info": {
   "codemirror_mode": {
    "name": "ipython",
    "version": 3
   },
   "file_extension": ".py",
   "mimetype": "text/x-python",
   "name": "python",
   "nbconvert_exporter": "python",
   "pygments_lexer": "ipython3",
   "version": "3.8.8"
  }
 },
 "nbformat": 4,
 "nbformat_minor": 5
}
