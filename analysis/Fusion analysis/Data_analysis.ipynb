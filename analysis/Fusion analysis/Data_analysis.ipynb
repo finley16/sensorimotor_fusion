{
 "cells": [
  {
   "cell_type": "code",
   "execution_count": 1,
   "metadata": {},
   "outputs": [],
   "source": [
    "import numpy as np\n",
    "from numpy import linalg as LA\n",
    "import matplotlib\n",
    "import matplotlib.pyplot as plt\n",
    "import pandas as pd\n",
    "from scipy import signal, fft\n",
    "import math as math\n",
    "import os\n",
    "from matplotlib.patches import Polygon\n",
    "import copy\n",
    "from scipy.stats import norm\n",
    "import statistics"
   ]
  },
  {
   "cell_type": "code",
   "execution_count": 2,
   "metadata": {},
   "outputs": [
    {
     "data": {
      "text/plain": [
       "dict_keys(['subject0', 'subject1', 'subject2', 'subject3', 'subject4', 'subject5', 'subject6', 'subject7', 'subject8', 'subject9', 'subject10', 'subject11', 'subject12', 'subject13', 'subject14'])"
      ]
     },
     "execution_count": 2,
     "metadata": {},
     "output_type": "execute_result"
    }
   ],
   "source": [
    "import pickle\n",
    "a_file = open(\"HCPS.pkl\", \"rb\") #remember to close afterwards\n",
    "HCPS = pickle.load(a_file)\n",
    "a_file.close()\n",
    "\n",
    "HCPS.keys()"
   ]
  },
  {
   "cell_type": "markdown",
   "metadata": {},
   "source": [
    "## Data analysis"
   ]
  },
  {
   "cell_type": "code",
   "execution_count": 3,
   "metadata": {},
   "outputs": [
    {
     "name": "stderr",
     "output_type": "stream",
     "text": [
      "C:\\Users\\hachou\\AppData\\Local\\Temp/ipykernel_17608/2600246000.py:8: RuntimeWarning: divide by zero encountered in true_divide\n",
      "  M = lambda s : 1/(s**2 + s) #2nd order machine\n",
      "C:\\Users\\hachou\\AppData\\Local\\Temp/ipykernel_17608/2600246000.py:8: RuntimeWarning: invalid value encountered in true_divide\n",
      "  M = lambda s : 1/(s**2 + s) #2nd order machine\n",
      "C:\\Users\\hachou\\AppData\\Local\\Temp/ipykernel_17608/2600246000.py:66: RuntimeWarning: invalid value encountered in true_divide\n",
      "  Wr_h.append( r_h[i] / M_h )\n",
      "C:\\Users\\hachou\\AppData\\Local\\Temp/ipykernel_17608/2600246000.py:82: RuntimeWarning: invalid value encountered in multiply\n",
      "  Md_h.append( d_h[i] * M_h )\n"
     ]
    }
   ],
   "source": [
    "# Data analysis\n",
    "def FFT(data,N):\n",
    "  return fft.fft(data)/N\n",
    "\n",
    "def IFFT(data,N):\n",
    "  return (fft.ifft(data)*N).real\n",
    "\n",
    "M = lambda s : 1/(s**2 + s) #2nd order machine\n",
    "\n",
    "num_cond = 7 #number of conditions\n",
    "participants_num = len(HCPS.keys())\n",
    "\n",
    "#scaling factors for output screen and input slider\n",
    "scaleOutputScreen = 1/4\n",
    "scaleInput = 0.04616974606700115\n",
    "\n",
    "#number of trials for each condition\n",
    "trialnum = [0] * num_cond \n",
    "for c in range(num_cond):\n",
    "  trialnum[c] = len(HCPS['subject0']['condition'+str(c)].keys())         #number of data trials, trial0 ~ trial3\n",
    "\n",
    "#parameters (same for all three conditions)\n",
    "fs = 60                               #pygame update rate 60 Hz\n",
    "base_freq = 0.05                      #1/20 Hz\n",
    "N = len(HCPS['subject0']['condition0']['trial0']['time_'])    #data length\n",
    "xf_all = fft.fftfreq(N, 1./ fs)       #freq (x-axis) both + and - terms\n",
    "xf = fft.fftfreq(N, 1./ fs)[:N//2]    #freq (x-axis) positive-frequency terms\n",
    "M_h = M(1.j*2*np.pi*xf_all)           #M_hat = 1/ ((jw)^2 + (jw))\n",
    "t = HCPS['subject0']['condition0']['trial0']['time_']         #time\n",
    "prime = np.asarray([2, 3, 5, 7, \n",
    "                    11, 13, 17, 19])  #prime numbers\n",
    "stimulated_index = prime*2 #array([ 4,  6, 10, 14, 22, 26, 34, 38])\n",
    "stimulated_freq = prime*base_freq\n",
    "\n",
    "def Analysis(data,trialnum):\n",
    "  r = []      #r, reference (time)\n",
    "  Md = []     #Md, disturbance (time)\n",
    "  y = []      #y, output (time)\n",
    "  r_h = []    #r_hat, reference (freq)\n",
    "  y_h = []    #y_hat, output (freq)\n",
    "  Md_h = []   #Md_hat, disturbance (freq)\n",
    "  Wr_h = []   #Wr_hat, M^{-1}r_hat (freq)\n",
    "  Wr = []     #Wr, M^{-1}r (time)\n",
    "  u_h = []    #u_hat, input (freq)\n",
    "  u = []      #u, input (time)\n",
    "  u0_h = []   #u0_hat, emg input (freq)\n",
    "  u0 = []     #u0, emg input (time)\n",
    "  u1_h = []   #u1_hat, slider input (freq)\n",
    "  u1 = []     #u1, slider input (time)\n",
    "  d_h = []    #d_hat, disturbance (freq)\n",
    "  d = []      #d, disturbance (time)\n",
    "\n",
    "  for i in range(trialnum):\n",
    "    \n",
    "    #(1) output \n",
    "    r.append( data['trial'+str(i)]['ref_'] )\n",
    "    d.append( data['trial'+str(i)]['dis_'] )\n",
    "    y.append( data['trial'+str(i)]['out_'] )\n",
    "    \n",
    "    #(2) fft (entire freq term)\n",
    "    r_h.append( FFT(r[i],N) )\n",
    "    y_h.append( FFT(y[i],N) )\n",
    "    d_h.append( FFT(d[i],N) )\n",
    "\n",
    "    #(3) M^{-1}r_hat = Wr_hat = r_hat / M_hat in freq domain and Wr in time domain\n",
    "    Wr_h.append( r_h[i] / M_h )\n",
    "    Wr_h[i][0] = 0 #nan\n",
    "    Wr.append( IFFT(Wr_h[i],N) )\n",
    "    \n",
    "    #(4) input(u): u_hat in freq domain and u in time domain\n",
    "    # Umean = np.mean(data['trial'+str(i)]['inp_'])\n",
    "    u_h.append( FFT(data['trial'+str(i)]['inp_'],N) ) #combined input\n",
    "    u.append( IFFT(u_h[i],N) )\n",
    "\n",
    "    u0_h.append( FFT(data['trial'+str(i)]['inp0_'],N) ) #seperated emg input\n",
    "    u0.append( IFFT(u0_h[i],N) )\n",
    "\n",
    "    u1_h.append( FFT(data['trial'+str(i)]['inp1_'],N) ) #seperated slider input \n",
    "    u1.append( IFFT(u1_h[i],N) )\n",
    "\n",
    "    #(5) disturbance(d): d_hat = Md_hat/M_hat in freq domain and d in time domain\n",
    "    Md_h.append( d_h[i] * M_h )\n",
    "    Md_h[i][0] = 0 #nan\n",
    "    Md.append( IFFT(Md_h[i],N) )\n",
    "\n",
    "    #output scaling\n",
    "    r[i] = r[i]*scaleOutputScreen\n",
    "    y[i] = y[i]*scaleOutputScreen\n",
    "    Md[i] = Md[i]*scaleOutputScreen\n",
    "    r_h[i] = r_h[i]*scaleOutputScreen\n",
    "    y_h[i] = y_h[i]*scaleOutputScreen\n",
    "    Md_h[i] = Md_h[i]*scaleOutputScreen\n",
    "\n",
    "    #input scaling\n",
    "    d[i] = d[i]*scaleInput\n",
    "    Wr[i] = Wr[i]*scaleInput\n",
    "    u[i] = u[i]*scaleInput\n",
    "    u0[i] = u0[i]*scaleInput\n",
    "    u1[i] = u1[i]*scaleInput\n",
    "    d_h[i] = d_h[i]*scaleInput\n",
    "    Wr_h[i] = Wr_h[i]*scaleInput\n",
    "    u_h[i] = u_h[i]*scaleInput\n",
    "    u0_h[i] = u0_h[i]*scaleInput\n",
    "    u1_h[i] = u1_h[i]*scaleInput    \n",
    "\n",
    "  #create dict\n",
    "  time_domain = {'Md':Md,'r':r,'y':y,'d':d,'Wr':Wr,'u':u,'u0':u0,'u1':u1} #time domain\n",
    "  freq_domain = {'MD':Md_h,'R':r_h,'Y':y_h,'D':d_h,'WR':Wr_h,'U':u_h,'U0':u0_h,'U1':u1_h} #freq domain\n",
    "\n",
    "  return time_domain, freq_domain\n",
    "#create a new nested dic \"DATA\" with all subjects\n",
    "DATA = {}\n",
    "DATA['TIME'] = {} #time-domain data\n",
    "DATA['FREQ'] = {} #freq-domain data\n",
    "\n",
    "for p in range(participants_num): # number of participants = 15\n",
    "    DATA['TIME']['subject'+str(p)] = {}\n",
    "    DATA['FREQ']['subject'+str(p)] = {}\n",
    "    for c in range(num_cond):  # number of conditions  = 7\n",
    "        DATA['TIME']['subject'+str(p)]['condition'+str(c)], DATA['FREQ']['subject'+str(p)]['condition'+str(c)] = Analysis(HCPS['subject'+str(p)]['condition'+str(c)],trialnum[c])"
   ]
  },
  {
   "cell_type": "markdown",
   "metadata": {},
   "source": [
    "## non stim user inputs"
   ]
  },
  {
   "cell_type": "code",
   "execution_count": 4,
   "metadata": {},
   "outputs": [],
   "source": [
    "#mask for index of freq that are less than 1Hz\n",
    "def lessthanone(x): return x <= 1.0\n",
    "indexone = [idx for idx, element in enumerate(xf) if lessthanone(element)]\n",
    "unwanted_index = {4,  6, 10, 14, 22, 26, 34, 38}\n",
    "nonstimulated_index = [i for i in indexone if i not in unwanted_index]\n"
   ]
  },
  {
   "cell_type": "code",
   "execution_count": 5,
   "metadata": {},
   "outputs": [],
   "source": [
    "for p in range(participants_num): # number of participants = 15\n",
    "    for c in range(num_cond):  # number of conditions  = 7\n",
    "        DATA['FREQ']['subject'+str(p)]['condition'+str(c)]['UX'] = [] #non-stim u in freq domain (freq less than 1)\n",
    "        DATA['FREQ']['subject'+str(p)]['condition'+str(c)]['U0X'] = []\n",
    "        DATA['FREQ']['subject'+str(p)]['condition'+str(c)]['U1X'] = []\n",
    "\n",
    "        for i in range(trialnum[c]):\n",
    "            DATA['FREQ']['subject'+str(p)]['condition'+str(c)]['UX'].append( DATA['FREQ']['subject'+str(p)]['condition'+str(c)]['U'][i][nonstimulated_index] )\n",
    "            DATA['FREQ']['subject'+str(p)]['condition'+str(c)]['U0X'].append( DATA['FREQ']['subject'+str(p)]['condition'+str(c)]['U0'][i][nonstimulated_index] )\n",
    "            DATA['FREQ']['subject'+str(p)]['condition'+str(c)]['U1X'].append( DATA['FREQ']['subject'+str(p)]['condition'+str(c)]['U1'][i][nonstimulated_index] )\n"
   ]
  },
  {
   "cell_type": "code",
   "execution_count": 6,
   "metadata": {},
   "outputs": [
    {
     "data": {
      "text/plain": [
       "dict_keys(['MD', 'R', 'Y', 'D', 'WR', 'U', 'U0', 'U1', 'UX', 'U0X', 'U1X'])"
      ]
     },
     "execution_count": 6,
     "metadata": {},
     "output_type": "execute_result"
    }
   ],
   "source": [
    "DATA['FREQ']['subject'+str(p)]['condition'+str(c)].keys()"
   ]
  },
  {
   "cell_type": "markdown",
   "metadata": {},
   "source": [
    "## save DATA"
   ]
  },
  {
   "cell_type": "code",
   "execution_count": 7,
   "metadata": {},
   "outputs": [],
   "source": [
    "import pickle\n",
    "b_file = open(\"DATA.pkl\", \"wb\")\n",
    "pickle.dump(DATA, b_file)\n",
    "b_file.close()"
   ]
  },
  {
   "cell_type": "code",
   "execution_count": null,
   "metadata": {},
   "outputs": [],
   "source": []
  }
 ],
 "metadata": {
  "interpreter": {
   "hash": "c7630cac1be2ce353e8b9db6b173bfb313a38b5a49c89b23e86948b2ee501bfa"
  },
  "kernelspec": {
   "display_name": "Python 3.9.7 ('base')",
   "language": "python",
   "name": "python3"
  },
  "language_info": {
   "codemirror_mode": {
    "name": "ipython",
    "version": 3
   },
   "file_extension": ".py",
   "mimetype": "text/x-python",
   "name": "python",
   "nbconvert_exporter": "python",
   "pygments_lexer": "ipython3",
   "version": "3.9.7"
  },
  "orig_nbformat": 4
 },
 "nbformat": 4,
 "nbformat_minor": 2
}
