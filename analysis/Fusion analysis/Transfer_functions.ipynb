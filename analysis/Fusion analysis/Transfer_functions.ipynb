{
 "cells": [
  {
   "cell_type": "code",
   "execution_count": 1,
   "metadata": {},
   "outputs": [],
   "source": [
    "import numpy as np\n",
    "from numpy import linalg as LA\n",
    "import matplotlib\n",
    "import matplotlib.pyplot as plt\n",
    "import pandas as pd\n",
    "from scipy import signal, fft\n",
    "import math as math\n",
    "import os\n",
    "from matplotlib.patches import Polygon\n",
    "import copy"
   ]
  },
  {
   "cell_type": "code",
   "execution_count": 2,
   "metadata": {},
   "outputs": [
    {
     "data": {
      "text/plain": [
       "dict_keys(['subject0', 'subject1', 'subject2', 'subject3', 'subject4', 'subject5', 'subject6', 'subject7', 'subject8', 'subject9', 'subject10', 'subject11', 'subject12', 'subject13', 'subject14'])"
      ]
     },
     "execution_count": 2,
     "metadata": {},
     "output_type": "execute_result"
    }
   ],
   "source": [
    "import pickle\n",
    "a_file = open(\"HCPS.pkl\", \"rb\") #remember to close afterwards\n",
    "HCPS = pickle.load(a_file)\n",
    "a_file.close()\n",
    "\n",
    "b_file = open(\"DATA.pkl\", \"rb\") #remember to close afterwards\n",
    "DATA = pickle.load(b_file)\n",
    "b_file.close()\n",
    "\n",
    "c_file = open(\"SIM.pkl\", \"rb\") #remember to close afterwards\n",
    "SIM = pickle.load(c_file)\n",
    "c_file.close()\n",
    "\n",
    "\n",
    "HCPS.keys()"
   ]
  },
  {
   "cell_type": "code",
   "execution_count": 3,
   "metadata": {},
   "outputs": [
    {
     "name": "stderr",
     "output_type": "stream",
     "text": [
      "C:\\Users\\hachou\\AppData\\Local\\Temp/ipykernel_14356/4009719490.py:1: RuntimeWarning: divide by zero encountered in true_divide\n",
      "  M = lambda s : 1/(s**2 + s) #2nd order machine\n",
      "C:\\Users\\hachou\\AppData\\Local\\Temp/ipykernel_14356/4009719490.py:1: RuntimeWarning: invalid value encountered in true_divide\n",
      "  M = lambda s : 1/(s**2 + s) #2nd order machine\n"
     ]
    }
   ],
   "source": [
    "M = lambda s : 1/(s**2 + s) #2nd order machine\n",
    "\n",
    "num_cond = 7 #number of conditions\n",
    "participants_num = len(HCPS.keys())\n",
    "\n",
    "#number of trials for each condition\n",
    "trialnum = [0] * num_cond \n",
    "for c in range(num_cond):\n",
    "  trialnum[c] = len(HCPS['subject0']['condition'+str(c)].keys())         #number of data trials, trial0 ~ trial3\n",
    "\n",
    "#parameters (same for all three conditions)\n",
    "fs = 60                               #pygame update rate 60 Hz\n",
    "base_freq = 0.05                      #1/20 Hz\n",
    "N = len(HCPS['subject0']['condition0']['trial0']['time_'])    #data length\n",
    "xf_all = fft.fftfreq(N, 1./ fs)       #freq (x-axis) both + and - terms\n",
    "xf = fft.fftfreq(N, 1./ fs)[:N//2]    #freq (x-axis) positive-frequency terms\n",
    "M_h = M(1.j*2*np.pi*xf_all)           #M_hat = 1/ ((jw)^2 + (jw))\n",
    "t = HCPS['subject0']['condition0']['trial0']['time_']         #time\n",
    "prime = np.asarray([2, 3, 5, 7, \n",
    "                    11, 13, 17, 19])  #prime numbers\n",
    "stimulated_index = prime*2 #array([ 4,  6, 10, 14, 22, 26, 34, 38])\n",
    "stimulated_freq = prime*base_freq\n",
    "\n",
    "#scaling factors for output screen and input slider\n",
    "scaleOutputScreen = 1/4\n",
    "scaleInput = 0.04616974606700115"
   ]
  },
  {
   "cell_type": "markdown",
   "metadata": {},
   "source": [
    "## TUR & TUD"
   ]
  },
  {
   "cell_type": "code",
   "execution_count": 4,
   "metadata": {},
   "outputs": [],
   "source": [
    "def TUR_TUD(condition,input_type,trialnum): #input_type = 'U', 'U0'(emg in fusion), or 'U1'(slider in fusion)\n",
    "  #find index of simulated freqs: trial 0 is EO (ref - Even, dis - Odd)\n",
    "  # Even_index = (np.where(abs(condition['R'][0]) > 1e-12)[0])[:4] #array([ 6, 14, 26, 38])\n",
    "  # Odd_index = (np.where(abs(condition['D'][0]) > 1e-12)[0])[:4]  #array([ 4, 10, 22, 34])\n",
    "\n",
    "  Even_index = np.array([ 6, 14, 26, 38])\n",
    "  Odd_index = np.array([ 4, 10, 22, 34])\n",
    "\n",
    "  #R,D in EO trials, without zeros\n",
    "  even_R = condition['R'][0][Even_index] / scaleOutputScreen #even R without zeros\n",
    "  odd_D = condition['D'][0][Odd_index] / scaleInput #odd D without zeros\n",
    "\n",
    "  #R,D in OE trials, without zeros\n",
    "  odd_R = condition['R'][1][Odd_index] / scaleOutputScreen #odd R without zeros\n",
    "  even_D = condition['D'][1][Even_index] / scaleInput #even D without zeros\n",
    "\n",
    "  #number of Tur & Tud = half(trials) (1 EO & 1 OE trial together as one)\n",
    "  Tur = np.zeros((math.ceil(trialnum/2),8), dtype=complex) #number of stimulatd freqs = 8\n",
    "  Tud = np.zeros((math.ceil(trialnum/2),8), dtype=complex)\n",
    "\n",
    "  # U at simulated freqs\n",
    "  even_U = []; odd_U = []\n",
    "  for i in range(trialnum): #all trials in a condition\n",
    "    even_U.append( condition[input_type][i][Even_index] / scaleInput )\n",
    "    odd_U.append( condition[input_type][i][Odd_index] / scaleInput )\n",
    "  \n",
    "  #Lists of Even (EO) and Odd (OE) trials\n",
    "  EO = [x for x in range(trialnum) if x % 2 == 0] # EO trials (ref - Even, dis - Odd)\n",
    "  OE = [x for x in range(trialnum) if x % 2 != 0]  # OE trials (ref - Odd, dis - Even)\n",
    "\n",
    "  # Tur & Tud at simulated freqs\n",
    "  for i in EO: #EO trials = [0,2,4 ...] (ref - Even, dis - Odd) (dis-ref-dis ...)\n",
    "    Tur[i//2][1::2] = even_U[i] / even_R \n",
    "    Tud[i//2][::2] = odd_U[i] / odd_D \n",
    "  for i in OE: #OE trials = [1,3,5 ...] (ref - Odd, dis - Even) (ref-dis-ref...)\n",
    "    Tur[i//2][::2] = odd_U[i] / odd_R \n",
    "    Tud[i//2][1::2] = even_U[i] / even_D \n",
    "\n",
    "  return Tur, Tud"
   ]
  },
  {
   "cell_type": "code",
   "execution_count": 5,
   "metadata": {},
   "outputs": [],
   "source": [
    "#create new nested dic \"TUR\" \"TUD\"\n",
    "TUR = {}; TUD = {}\n",
    "for p in range(participants_num): # number of participants = 15\n",
    "    TUR['subject'+str(p)] = {}\n",
    "    TUD['subject'+str(p)] = {}\n",
    "    for c in range(num_cond):  # number of conditions  = 7\n",
    "        TUR['subject'+str(p)]['condition'+str(c)], TUD['subject'+str(p)]['condition'+str(c)] = TUR_TUD(DATA['FREQ']['subject'+str(p)]['condition'+str(c)],'U',trialnum[c])\n",
    "#create new nested dic \"TU0R\" \"TU0D\"\n",
    "TU0R = {}; TU0D = {}\n",
    "for p in range(participants_num): # number of participants = 15\n",
    "    TU0R['subject'+str(p)] = {}\n",
    "    TU0D['subject'+str(p)] = {}\n",
    "    for c in range(num_cond):  # number of conditions  = 7\n",
    "        TU0R['subject'+str(p)]['condition'+str(c)], TU0D['subject'+str(p)]['condition'+str(c)] = TUR_TUD(DATA['FREQ']['subject'+str(p)]['condition'+str(c)],'U0',trialnum[c])\n",
    "#create new nested dic \"TU1R\" \"TU1D\"\n",
    "TU1R = {}; TU1D = {}\n",
    "for p in range(participants_num): # number of participants = 15\n",
    "    TU1R['subject'+str(p)] = {}\n",
    "    TU1D['subject'+str(p)] = {}\n",
    "    for c in range(num_cond):  # number of conditions  = 7\n",
    "        TU1R['subject'+str(p)]['condition'+str(c)], TU1D['subject'+str(p)]['condition'+str(c)] = TUR_TUD(DATA['FREQ']['subject'+str(p)]['condition'+str(c)],'U1',trialnum[c])"
   ]
  },
  {
   "cell_type": "markdown",
   "metadata": {},
   "source": [
    "## TYR & TYD"
   ]
  },
  {
   "cell_type": "code",
   "execution_count": 6,
   "metadata": {},
   "outputs": [],
   "source": [
    "def TYR_TYD(condition,trialnum):\n",
    "\n",
    "  #find index of simulated freqs: trial 0 is EO (ref - Even, dis - Odd)\n",
    "  # Even_index = (np.where(abs(condition['R'][0]) > 1e-12)[0])[:4] #array([ 6, 14, 26, 38])\n",
    "  # Odd_index = (np.where(abs(condition['D'][0]) > 1e-12)[0])[:4]  #array([ 4, 10, 22, 34])\n",
    "  Even_index = np.array([ 6, 14, 26, 38])\n",
    "  Odd_index = np.array([ 4, 10, 22, 34])\n",
    "\n",
    "  #R,D in EO trials, without zeros\n",
    "  even_R = condition['R'][0][Even_index] / scaleOutputScreen #even R without zeros\n",
    "  odd_D = condition['D'][0][Odd_index] / scaleInput #odd D without zeros\n",
    "\n",
    "  #R,D in OE trials, without zeros\n",
    "  odd_R = condition['R'][1][Odd_index] / scaleOutputScreen #odd R without zeros\n",
    "  even_D = condition['D'][1][Even_index] / scaleInput #even D without zeros\n",
    "\n",
    "  #number of Tyr & Tyd = half(trials) (1 EO & 1 OE trial together as one)\n",
    "  Tyr = np.zeros((math.ceil(trialnum/2),8), dtype=complex) #number of stimulatd freqs = 8\n",
    "  Tyd = np.zeros((math.ceil(trialnum/2),8), dtype=complex)\n",
    "\n",
    "  # Y at simulated freqs\n",
    "  even_Y = []; odd_Y = []\n",
    "  for i in range(trialnum): #all trials in a condition\n",
    "    even_Y.append( condition['Y'][i][Even_index] / scaleOutputScreen )\n",
    "    odd_Y.append( condition['Y'][i][Odd_index] / scaleOutputScreen )\n",
    "\n",
    "  #Lists of Even (EO) and Odd (OE) trials\n",
    "  EO = [x for x in range(trialnum) if x % 2 == 0] # EO trials (ref - Even, dis - Odd)\n",
    "  OE = [x for x in range(trialnum) if x % 2 != 0]  # OE trials (ref - Odd, dis - Even)\n",
    "\n",
    "  # Tyr & Tyd at simulated freqs\n",
    "  for i in EO: #EO trials = [0,2,4 ...] (ref - Even, dis - Odd) (dis-ref-dis ...)\n",
    "    Tyr[i//2][1::2] = even_Y[i] / even_R \n",
    "    Tyd[i//2][::2] = odd_Y[i] / odd_D \n",
    "  for i in OE: #OE trials = [1,3,5 ...] (ref - Odd, dis - Even) (ref-dis-ref...)\n",
    "    Tyr[i//2][::2] = odd_Y[i] / odd_R \n",
    "    Tyd[i//2][1::2] = even_Y[i] / even_D \n",
    "\n",
    "  return Tyr, Tyd"
   ]
  },
  {
   "cell_type": "code",
   "execution_count": 7,
   "metadata": {},
   "outputs": [],
   "source": [
    "#create new nested dic \"TYR\" \"TYD\"\n",
    "TYR = {}; TYD = {}\n",
    "for p in range(participants_num): # number of participants = 15\n",
    "    TYR['subject'+str(p)] = {}\n",
    "    TYD['subject'+str(p)] = {}\n",
    "    for c in range(num_cond):  # number of conditions  = 7\n",
    "        TYR['subject'+str(p)]['condition'+str(c)], TYD['subject'+str(p)]['condition'+str(c)] = TYR_TYD(DATA['FREQ']['subject'+str(p)]['condition'+str(c)],\n",
    "                                                                                                       trialnum[c])"
   ]
  },
  {
   "cell_type": "markdown",
   "metadata": {},
   "source": [
    "## TyMd"
   ]
  },
  {
   "cell_type": "code",
   "execution_count": 8,
   "metadata": {},
   "outputs": [],
   "source": [
    "def TYMD_fun(condition,trialnum):\n",
    "\n",
    "  #find index of simulated freqs: trial 0 is EO (ref - Even, dis - Odd)\n",
    "  # Even_index = (np.where(abs(condition['R'][0]) > 1e-12)[0])[:4] #array([ 6, 14, 26, 38])\n",
    "  # Odd_index = (np.where(abs(condition['D'][0]) > 1e-12)[0])[:4]  #array([ 4, 10, 22, 34])\n",
    "  Even_index = np.array([ 6, 14, 26, 38])\n",
    "  Odd_index = np.array([ 4, 10, 22, 34])\n",
    "\n",
    "  #R,D in EO trials, without zeros\n",
    "  even_R = condition['R'][0][Even_index] / scaleOutputScreen #even R without zeros\n",
    "  odd_D = condition['MD'][0][Odd_index] / scaleOutputScreen #odd D without zeros\n",
    "\n",
    "  #R,D in OE trials, without zeros\n",
    "  odd_R = condition['R'][1][Odd_index] / scaleOutputScreen #odd R without zeros\n",
    "  even_D = condition['MD'][1][Even_index] / scaleOutputScreen #even D without zeros\n",
    "\n",
    "  #number of Tyr & Tyd = half(trials) (1 EO & 1 OE trial together as one)\n",
    "  Tyr = np.zeros((math.ceil(trialnum/2),8), dtype=complex) #number of stimulatd freqs = 8\n",
    "  Tymd = np.zeros((math.ceil(trialnum/2),8), dtype=complex)\n",
    "\n",
    "  # Y at simulated freqs\n",
    "  even_Y = []; odd_Y = []\n",
    "  for i in range(trialnum): #all trials in a condition\n",
    "    even_Y.append( condition['Y'][i][Even_index] / scaleOutputScreen )\n",
    "    odd_Y.append( condition['Y'][i][Odd_index] / scaleOutputScreen )\n",
    "\n",
    "  #Lists of Even (EO) and Odd (OE) trials\n",
    "  EO = [x for x in range(trialnum) if x % 2 == 0] # EO trials (ref - Even, dis - Odd)\n",
    "  OE = [x for x in range(trialnum) if x % 2 != 0]  # OE trials (ref - Odd, dis - Even)\n",
    "\n",
    "  # Tyr & Tyd at simulated freqs\n",
    "  for i in EO: #EO trials = [0,2,4 ...] (ref - Even, dis - Odd)\n",
    "    Tyr[i//2][1::2] = even_Y[i] / even_R \n",
    "    Tymd[i//2][::2] = odd_Y[i] / odd_D \n",
    "  for i in OE: #OE trials = [1,3,5 ...] (ref - Odd, dis - Even)\n",
    "    Tyr[i//2][::2] = odd_Y[i] / odd_R \n",
    "    Tymd[i//2][1::2] = even_Y[i] / even_D \n",
    "\n",
    "  return Tymd"
   ]
  },
  {
   "cell_type": "code",
   "execution_count": 9,
   "metadata": {},
   "outputs": [],
   "source": [
    "#create new nested dic \"TYR\" \"TYD\"\n",
    "TYMD = {}\n",
    "for p in range(participants_num): # number of participants = 15\n",
    "    TYMD['subject'+str(p)] = {}\n",
    "    for c in range(num_cond):  # number of conditions  = 7\n",
    "        TYMD['subject'+str(p)]['condition'+str(c)] = TYMD_fun(DATA['FREQ']['subject'+str(p)]['condition'+str(c)],trialnum[c])"
   ]
  },
  {
   "cell_type": "markdown",
   "metadata": {},
   "source": [
    "## simulated TY0R TY0D & TY1R TY1D for condition 2-4"
   ]
  },
  {
   "cell_type": "code",
   "execution_count": 10,
   "metadata": {},
   "outputs": [],
   "source": [
    "def SIM_TYR_TYD(condition,sim_condition,y_type,trialnum):\n",
    "\n",
    "  #find index of simulated freqs: trial 0 is EO (ref - Even, dis - Odd)\n",
    "  # Even_index = (np.where(abs(condition['R'][0]) > 1e-12)[0])[:4] #array([ 6, 14, 26, 38])\n",
    "  # Odd_index = (np.where(abs(condition['D'][0]) > 1e-12)[0])[:4]  #array([ 4, 10, 22, 34])\n",
    "  Even_index = np.array([ 6, 14, 26, 38])\n",
    "  Odd_index = np.array([ 4, 10, 22, 34])\n",
    "\n",
    "  #R,D in EO trials, without zeros\n",
    "  even_R = condition['R'][0][Even_index] / scaleOutputScreen #even R without zeros\n",
    "  odd_D = condition['D'][0][Odd_index] / scaleInput #odd D without zeros\n",
    "\n",
    "  #R,D in OE trials, without zeros\n",
    "  odd_R = condition['R'][1][Odd_index] / scaleOutputScreen #odd R without zeros\n",
    "  even_D = condition['D'][1][Even_index] / scaleInput #even D without zeros\n",
    "\n",
    "  #number of Tyr & Tyd = half(trials) (1 EO & 1 OE trial together as one)\n",
    "  Tyr = np.zeros((math.ceil(trialnum/2),8), dtype=complex) #number of stimulatd freqs = 8\n",
    "  Tyd = np.zeros((math.ceil(trialnum/2),8), dtype=complex)\n",
    "\n",
    "  # Y at simulated freqs\n",
    "  even_Y = []; odd_Y = []\n",
    "  for i in range(trialnum): #all trials in a condition\n",
    "    even_Y.append( sim_condition[y_type][i][Even_index] / scaleOutputScreen ) #Y0 and Y1 are from numerical_sim\n",
    "    odd_Y.append( sim_condition[y_type][i][Odd_index] / scaleOutputScreen )\n",
    "\n",
    "  #Lists of Even (EO) and Odd (OE) trials\n",
    "  EO = [x for x in range(trialnum) if x % 2 == 0] # EO trials (ref - Even, dis - Odd)\n",
    "  OE = [x for x in range(trialnum) if x % 2 != 0]  # OE trials (ref - Odd, dis - Even)\n",
    "\n",
    "  # Tyr & Tyd at simulated freqs\n",
    "  for i in EO: #EO trials = [0,2,4 ...] (ref - Even, dis - Odd)\n",
    "    Tyr[i//2][1::2] = even_Y[i] / even_R \n",
    "    Tyd[i//2][::2] = odd_Y[i] / odd_D \n",
    "  for i in OE: #OE trials = [1,3,5 ...] (ref - Odd, dis - Even)\n",
    "    Tyr[i//2][::2] = odd_Y[i] / odd_R \n",
    "    Tyd[i//2][1::2] = even_Y[i] / even_D \n",
    "\n",
    "  return Tyr, Tyd"
   ]
  },
  {
   "cell_type": "code",
   "execution_count": 11,
   "metadata": {},
   "outputs": [],
   "source": [
    "#create new nested dic \"TY0R\" \"TY0D\"\n",
    "TY0R = {}; TY0D = {}\n",
    "for p in range(participants_num): # number of participants = 15\n",
    "    TY0R['subject'+str(p)] = {}\n",
    "    TY0D['subject'+str(p)] = {}\n",
    "    for c in [2,3,4]:  # fusion conditions\n",
    "        TY0R['subject'+str(p)]['condition'+str(c)], TY0D['subject'+str(p)]['condition'+str(c)] = SIM_TYR_TYD(DATA['FREQ']['subject'+str(p)]['condition'+str(c)],\n",
    "                                                                                                       SIM['subject'+str(p)]['condition'+str(c)],'Y0',\n",
    "                                                                                                       trialnum[c])\n",
    "\n",
    "TY1R = {}; TY1D = {}\n",
    "for p in range(participants_num): # number of participants = 15\n",
    "    TY1R['subject'+str(p)] = {}\n",
    "    TY1D['subject'+str(p)] = {}\n",
    "    for c in [2,3,4]:  # fusion conditions\n",
    "        TY1R['subject'+str(p)]['condition'+str(c)], TY1D['subject'+str(p)]['condition'+str(c)] = SIM_TYR_TYD(DATA['FREQ']['subject'+str(p)]['condition'+str(c)],\n",
    "                                                                                                       SIM['subject'+str(p)]['condition'+str(c)],'Y1',\n",
    "                                                                                                       trialnum[c])                                                                                                "
   ]
  },
  {
   "cell_type": "markdown",
   "metadata": {},
   "source": [
    "## F & B"
   ]
  },
  {
   "cell_type": "code",
   "execution_count": 12,
   "metadata": {},
   "outputs": [],
   "source": [
    "def F_B(Tur,Tud,trialnum):\n",
    "  F = np.zeros((math.ceil(trialnum/2),8), dtype=complex) #number of stimulated freqs = 8\n",
    "  B = np.zeros((math.ceil(trialnum/2),8), dtype=complex)\n",
    "  for i in range(math.ceil(trialnum/2)):\n",
    "    for w in range(8): #number of stimulated freq\n",
    "      B[i][w] = - (1 / M_h[stimulated_index][w]) * (Tud[i][w] / (1+ Tud[i][w])) \n",
    "      F[i][w] = (1 + B[i][w] * M_h[stimulated_index][w])*Tur[i][w] - B[i][w]\n",
    "  return F,B\n",
    "\n",
    "# def F_B(Tur,Tud,trialnum):\n",
    "#   F = np.zeros((math.ceil(trialnum/2),8), dtype=complex) #number of stimulated freqs = 8\n",
    "#   B = np.zeros((math.ceil(trialnum/2),8), dtype=complex)\n",
    "#   for i in range(math.ceil(trialnum/2)):\n",
    "#     B[i] = - (1 / M_h[stimulated_index]) * (Tud[i] / (1+ Tud[i])) \n",
    "#     F[i] = (1 + B[i] * M_h[stimulated_index])*Tur[i] - B[i]\n",
    "#   return F,B"
   ]
  },
  {
   "cell_type": "code",
   "execution_count": 13,
   "metadata": {},
   "outputs": [],
   "source": [
    "F = {}; B = {}\n",
    "for p in range(participants_num): # number of participants = 15\n",
    "    F['subject'+str(p)] = {}\n",
    "    B['subject'+str(p)] = {}\n",
    "    for c in range(num_cond):  # number of conditions  = 7\n",
    "        F['subject'+str(p)]['condition'+str(c)], B['subject'+str(p)]['condition'+str(c)] = F_B(TUR['subject'+str(p)]['condition'+str(c)],\n",
    "                                                                                               TUD['subject'+str(p)]['condition'+str(c)],\n",
    "                                                                                               trialnum[c])\n",
    "F0 = {}; B0 = {}\n",
    "for p in range(participants_num): # number of participants = 15\n",
    "    F0['subject'+str(p)] = {}\n",
    "    B0['subject'+str(p)] = {}\n",
    "    for c in range(num_cond):  # number of conditions  = 7\n",
    "        F0['subject'+str(p)]['condition'+str(c)], B0['subject'+str(p)]['condition'+str(c)] = F_B(TU0R['subject'+str(p)]['condition'+str(c)],\n",
    "                                                                                               TU0D['subject'+str(p)]['condition'+str(c)],\n",
    "                                                                                               trialnum[c])\n",
    "F1 = {}; B1 = {}\n",
    "for p in range(participants_num): # number of participants = 15\n",
    "    F1['subject'+str(p)] = {}\n",
    "    B1['subject'+str(p)] = {}\n",
    "    for c in range(num_cond):  # number of conditions  = 7\n",
    "        F1['subject'+str(p)]['condition'+str(c)], B1['subject'+str(p)]['condition'+str(c)] = F_B(TU1R['subject'+str(p)]['condition'+str(c)],\n",
    "                                                                                               TU1D['subject'+str(p)]['condition'+str(c)],\n",
    "                                                                                               trialnum[c])"
   ]
  },
  {
   "cell_type": "markdown",
   "metadata": {},
   "source": [
    "## find crossover freq"
   ]
  },
  {
   "cell_type": "code",
   "execution_count": 14,
   "metadata": {},
   "outputs": [
    {
     "data": {
      "text/plain": [
       "array([0.82978331, 0.8950932 , 0.70060568, 0.65458824, 0.3504692 ,\n",
       "       0.28882735, 0.21209986, 0.17936504])"
      ]
     },
     "execution_count": 14,
     "metadata": {},
     "output_type": "execute_result"
    }
   ],
   "source": [
    "# gain of open loop transfer function L = BM at the stim freqs, find L of all trials all participants\n",
    "L = []\n",
    "for p in range(participants_num):\n",
    "    for c in range(num_cond):   \n",
    "        for i in range(trialnum[c]//2):\n",
    "            # OL_TF = (M_h[stimulated_index] * B['subject'+str(p)]['condition'+str(c)][i]) / (1+M_h[stimulated_index] * B['subject'+str(p)]['condition'+str(c)][i])\n",
    "            OL_TF = (M_h[stimulated_index] * B['subject'+str(p)]['condition'+str(c)][i])  #L = BM\n",
    "            L.append( np.abs(OL_TF) )\n",
    "L_median = np.percentile(L,50,axis = 0)\n",
    "# L_median = np.median(L,axis =0)\n",
    "L_median"
   ]
  },
  {
   "cell_type": "markdown",
   "metadata": {},
   "source": [
    "## crossover freq in differnet conditions"
   ]
  },
  {
   "cell_type": "code",
   "execution_count": 15,
   "metadata": {},
   "outputs": [
    {
     "data": {
      "text/plain": [
       "array([8.81878266, 1.40367129, 0.92056369, 0.70904003, 0.38855738,\n",
       "       0.27936669, 0.21940464, 0.19648346])"
      ]
     },
     "execution_count": 15,
     "metadata": {},
     "output_type": "execute_result"
    }
   ],
   "source": [
    "# gain of open loop transfer function L = BM at the stim freqs, find L of all trials all participants\n",
    "L = []\n",
    "for p in range(participants_num):\n",
    "    for c in [5]:   \n",
    "        for i in range(trialnum[c]//2):\n",
    "            L.append( np.abs(B['subject'+str(p)]['condition'+str(c)][i] * M_h[stimulated_index]) )\n",
    "# L_mean_slider = np.percentile(L,50,axis = 0)\n",
    "L_mean_slider = np.mean(L,axis = 0)\n",
    "L_mean_slider"
   ]
  },
  {
   "cell_type": "code",
   "execution_count": 16,
   "metadata": {},
   "outputs": [
    {
     "data": {
      "text/plain": [
       "array([1.65344472, 1.57835112, 0.83532582, 0.64944083, 0.45512487,\n",
       "       0.66525288, 0.43512372, 0.33557466])"
      ]
     },
     "execution_count": 16,
     "metadata": {},
     "output_type": "execute_result"
    }
   ],
   "source": [
    "# gain of open loop transfer function L = BM at the stim freqs, find L of all trials all participants\n",
    "L = []\n",
    "for p in range(participants_num):\n",
    "    for c in [1,6]:   \n",
    "        for i in range(trialnum[c]//2):\n",
    "            L.append( np.abs(B['subject'+str(p)]['condition'+str(c)][i] * M_h[stimulated_index]) )\n",
    "# L_mean_emg = np.percentile(L,50,axis = 0)\n",
    "L_mean_emg = np.mean(L,axis = 0)\n",
    "L_mean_emg"
   ]
  },
  {
   "cell_type": "code",
   "execution_count": 17,
   "metadata": {},
   "outputs": [
    {
     "data": {
      "text/plain": [
       "array([1.50161782, 1.44157609, 0.79533432, 0.74063069, 0.38612708,\n",
       "       0.3916075 , 0.28172336, 0.26512993])"
      ]
     },
     "execution_count": 17,
     "metadata": {},
     "output_type": "execute_result"
    }
   ],
   "source": [
    "# gain of open loop transfer function L = BM at the stim freqs, find L of all trials all participants\n",
    "L = []\n",
    "for p in range(participants_num):\n",
    "    for c in [2,3,4]:   \n",
    "        for i in range(trialnum[c]//2):\n",
    "            L.append( np.abs(B['subject'+str(p)]['condition'+str(c)][i] * M_h[stimulated_index]) )\n",
    "# L_mean = np.percentile(L,50,axis = 0)\n",
    "L_mean = np.mean(L,axis = 0)\n",
    "L_mean"
   ]
  },
  {
   "cell_type": "code",
   "execution_count": 18,
   "metadata": {},
   "outputs": [
    {
     "data": {
      "text/plain": [
       "array([1.0652558 , 1.05468175, 0.80725566, 0.6588671 , 0.44908044,\n",
       "       0.54608752, 0.37416402, 0.44450172])"
      ]
     },
     "execution_count": 18,
     "metadata": {},
     "output_type": "execute_result"
    }
   ],
   "source": [
    "# gain of open loop transfer function L = BM at the stim freqs, find L of all trials all participants\n",
    "L0 = []\n",
    "for p in range(participants_num):\n",
    "    for c in [2,3,4]:   \n",
    "        for i in range(trialnum[c]//2):\n",
    "            L0.append( np.abs(B0['subject'+str(p)]['condition'+str(c)][i] * M_h[stimulated_index]) )\n",
    "L0_mean = np.mean(L0,axis = 0)\n",
    "L0_mean"
   ]
  },
  {
   "cell_type": "code",
   "execution_count": 19,
   "metadata": {},
   "outputs": [
    {
     "data": {
      "text/plain": [
       "array([1.29415497, 1.00242813, 0.68740336, 0.81972949, 0.34176445,\n",
       "       0.26712171, 0.17083459, 0.15135591])"
      ]
     },
     "execution_count": 19,
     "metadata": {},
     "output_type": "execute_result"
    }
   ],
   "source": [
    "L1 = []\n",
    "for p in range(participants_num):\n",
    "    for c in [2,3,4]: \n",
    "        for i in range(trialnum[c]//2):\n",
    "            L1.append( np.abs(B1['subject'+str(p)]['condition'+str(c)][i] * M_h[stimulated_index]) )\n",
    "L1_mean = np.mean(L1,axis = 0)\n",
    "L1_mean"
   ]
  },
  {
   "cell_type": "markdown",
   "metadata": {},
   "source": [
    "# cerate dicts"
   ]
  },
  {
   "cell_type": "code",
   "execution_count": 20,
   "metadata": {},
   "outputs": [],
   "source": [
    "#create nested dict\n",
    "TF = {  'TUR': TUR, \n",
    "        'TUD': TUD,\n",
    "        'TU0R': TU0R,\n",
    "        'TU0D': TU0D,\n",
    "        'TU1R': TU1R, \n",
    "        'TU1D': TU1D,\n",
    "        'TYR': TYR,\n",
    "        'TYD': TYD, \n",
    "        'TYMD': TYMD,\n",
    "        'TY0R': TY0R,\n",
    "        'TY0D': TY0D,\n",
    "        'TY1R': TY1R,\n",
    "        'TY1D': TY1D,\n",
    "        'F': F,\n",
    "        'B': B,\n",
    "        'F0': F0,\n",
    "        'B0': B0,\n",
    "        'F1': F1,\n",
    "        'B1': B1}"
   ]
  },
  {
   "cell_type": "code",
   "execution_count": 21,
   "metadata": {},
   "outputs": [],
   "source": [
    "c_file = open(\"TF.pkl\", \"wb\")\n",
    "pickle.dump(TF, c_file)\n",
    "c_file.close()"
   ]
  },
  {
   "cell_type": "code",
   "execution_count": null,
   "metadata": {},
   "outputs": [],
   "source": []
  },
  {
   "cell_type": "code",
   "execution_count": null,
   "metadata": {},
   "outputs": [],
   "source": []
  }
 ],
 "metadata": {
  "interpreter": {
   "hash": "c7630cac1be2ce353e8b9db6b173bfb313a38b5a49c89b23e86948b2ee501bfa"
  },
  "kernelspec": {
   "display_name": "Python 3.9.7 ('base')",
   "language": "python",
   "name": "python3"
  },
  "language_info": {
   "codemirror_mode": {
    "name": "ipython",
    "version": 3
   },
   "file_extension": ".py",
   "mimetype": "text/x-python",
   "name": "python",
   "nbconvert_exporter": "python",
   "pygments_lexer": "ipython3",
   "version": "3.9.7"
  },
  "orig_nbformat": 4
 },
 "nbformat": 4,
 "nbformat_minor": 2
}
