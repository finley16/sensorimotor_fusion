{
 "cells": [
  {
   "cell_type": "markdown",
   "metadata": {},
   "source": [
    "# Setup"
   ]
  },
  {
   "cell_type": "code",
   "execution_count": 1,
   "metadata": {},
   "outputs": [],
   "source": [
    "import numpy as np\n",
    "from numpy import linalg as LA\n",
    "import matplotlib\n",
    "import matplotlib.pyplot as plt\n",
    "import pandas as pd\n",
    "from scipy import signal, fft\n",
    "import math as math\n",
    "import os\n",
    "from matplotlib.patches import Polygon\n",
    "import copy\n",
    "import pickle\n",
    "from scipy.stats import norm,wilcoxon,shapiro,ttest_rel\n",
    "import statistics"
   ]
  },
  {
   "cell_type": "code",
   "execution_count": 2,
   "metadata": {},
   "outputs": [],
   "source": [
    "# plotting parameters\n",
    "#determine colors and font size|\n",
    "colors = dict(M='#6600CC',\n",
    "              F='#000000',\n",
    "              B='#FFFFFF',\n",
    "              H='#009900',\n",
    "              r='#FDB119',\n",
    "              u='#009900',\n",
    "              u25='#BBF90F',\n",
    "              u75='#006400',\n",
    "              d='#FD6E19',\n",
    "              #y='#0033FF',  #or 6600CC which is darker and I prefer \n",
    "              y='#6600CC',  #or 6600CC which is darker and I prefer \n",
    "              N='#0000CC',\n",
    "              D='#CC0000',\n",
    "              g='#B1B1B1', #grey\n",
    "              first5='#B1B1B1',\n",
    "              last5='#999999',\n",
    "              BLUE = '#1f77b4',\n",
    "              ORANGE = '#ff7f0e',\n",
    "              GREEN = '#2ca02c',\n",
    "              RED = '#d62728',\n",
    "              PURPLE = '#9467bd',\n",
    "              GOLD = '#FDB119') #default colors\n",
    "              # D = dominant = right; N = nondominant = left\n",
    "\n",
    "yfill = list(matplotlib.colors.to_rgba(colors['y']))\n",
    "yfill[-1] = 0.3\n",
    "\n",
    "ufill = list(matplotlib.colors.to_rgba(colors['u']))\n",
    "ufill[-1] = 0.3\n",
    "\n",
    "gfill = list(matplotlib.colors.to_rgba(colors['g']))\n",
    "gfill[-1] = 0.3\n",
    "\n",
    "rfill = list(matplotlib.colors.to_rgba(colors['r']))\n",
    "rfill[-1] = 0.3\n",
    "\n",
    "bfill = list(matplotlib.colors.to_rgba(colors['BLUE']))\n",
    "bfill[-1] = 0.3\n",
    "\n",
    "font = {#'family' : 'normal',\n",
    "        'weight' : 'ultralight',\n",
    "        'size'   : 14}\n",
    "matplotlib.rc('font', **font)\n",
    "from matplotlib import rcParams\n",
    "rcParams['axes.titlesize'] = 16\n",
    "rcParams['font.weight'] = 'ultralight'\n",
    "rcParams['font.family'] = 'sans-serif'\n",
    "rcParams['mathtext.fontset'] = 'cm'"
   ]
  },
  {
   "cell_type": "markdown",
   "metadata": {},
   "source": [
    "## analysis function"
   ]
  },
  {
   "cell_type": "code",
   "execution_count": 3,
   "metadata": {},
   "outputs": [],
   "source": [
    "def mean_and_interquartile(data, axis = 0):\n",
    "    \"\"\"\n",
    "    calculate mean and interquartile range of data.\n",
    "    how to use: \n",
    "    mean, quantile25, quantile50, quantile75 = mean_and_interquartile(data, axis)\n",
    "    \"\"\"\n",
    "    mean = np.nanmean(data, axis = axis)\n",
    "    q25, q50, q75 = np.nanpercentile(data, [25, 50, 75], axis=axis)\n",
    "    return mean, q25, q50, q75\n",
    "\n",
    "\n",
    "def WilcoxonTest(all_data):\n",
    "    \"\"\"Wilcoxon signed-rank test:  \n",
    "    tests the null hypothesis that two related paired samples come from the same distribution\n",
    "    \"\"\"\n",
    "\n",
    "    n = len(all_data)\n",
    "    w = np.zeros(n**2)\n",
    "    p = np.zeros(n**2)\n",
    "    sig = np.zeros(n**2)\n",
    "    flag = []\n",
    "    k = 0\n",
    "    for i in range(n):\n",
    "        for j in range(n):\n",
    "            if i != j:\n",
    "                w[k], p[k] = wilcoxon(all_data[i],all_data[j])\n",
    "                # determine significant (p<=0.05)\n",
    "                if p[k] <= 0.05:\n",
    "                    sig[k] = 1\n",
    "            else: \n",
    "                w[k] = np.nan\n",
    "                p[k] = np.nan\n",
    "                sig[k] = np.nan #i=j\n",
    "            \n",
    "            if sig[k] == 1 and j > i:\n",
    "                flag.append('there is significant difference between condition '+str(i)+' and condition '+str(j)+', w = '+str(w[k])+ ', pvalue = '+str(p[k]))\n",
    "            \n",
    "            k+=1    \n",
    "    return w,p,sig,flag"
   ]
  },
  {
   "cell_type": "markdown",
   "metadata": {},
   "source": [
    "## load data"
   ]
  },
  {
   "cell_type": "code",
   "execution_count": 164,
   "metadata": {},
   "outputs": [],
   "source": [
    "file_folder = \"C:\\\\Users\\\\amber\\\\OneDrive - UW\\\\Sensorimotor Fusion\\\\pickles\\\\video_game_analysis\\\\\" # laptop\n",
    "# file_folder = \"\" # this folder\n",
    "\n",
    "file_name = r'time_domain_data_HCPS101_115.pkl' # Amber's CPHS 15 subjects, time domain data\n",
    "with open(file_folder + file_name, 'rb') as f:\n",
    "    DATA = pickle.load(f)\n",
    "\n",
    "file_name = r'time_domain_data_HCPS116_122.pkl' # 7 subject linearity test\n",
    "with open(file_folder + file_name, 'rb') as f:\n",
    "    DATA_L = pickle.load(f)"
   ]
  },
  {
   "cell_type": "code",
   "execution_count": 165,
   "metadata": {},
   "outputs": [
    {
     "name": "stdout",
     "output_type": "stream",
     "text": [
      "dict_keys(['subject0', 'subject1', 'subject2', 'subject3', 'subject4', 'subject5', 'subject6', 'subject7', 'subject8', 'subject9', 'subject10', 'subject11', 'subject12', 'subject13', 'subject14'])\n",
      "dict_keys(['subject0', 'subject1', 'subject2', 'subject3', 'subject4', 'subject5', 'subject6'])\n"
     ]
    }
   ],
   "source": [
    "print(DATA.keys())\n",
    "print(DATA_L.keys())"
   ]
  },
  {
   "cell_type": "code",
   "execution_count": 166,
   "metadata": {},
   "outputs": [
    {
     "name": "stdout",
     "output_type": "stream",
     "text": [
      "dict_keys(['condition0', 'condition1', 'condition2', 'condition3', 'condition4', 'condition5', 'condition6'])\n",
      "dict_keys(['condition0', 'condition1', 'condition2', 'condition3', 'condition4'])\n",
      "dict_keys(['Md', 'r', 'y', 'd', 'Wr', 'u', 'u0', 'u1'])\n",
      "dict_keys(['Md', 'r', 'y', 'd', 'Wr', 'u', 'u0', 'u1'])\n"
     ]
    }
   ],
   "source": [
    "print(DATA['subject0'].keys())\n",
    "print(DATA_L['subject0'].keys())\n",
    "\n",
    "print(DATA['subject0']['condition0'].keys())\n",
    "print(DATA_L['subject0']['condition0'].keys())\n",
    "\n",
    "# condition0: slider only\n",
    "# condition1: EMG only\n",
    "\n",
    "# r = reference position\n",
    "# d = disturbance\n",
    "# y = cursor position\n",
    "# u = emg input"
   ]
  },
  {
   "cell_type": "code",
   "execution_count": 167,
   "metadata": {},
   "outputs": [
    {
     "name": "stdout",
     "output_type": "stream",
     "text": [
      "15\n",
      "10\n",
      "4\n"
     ]
    }
   ],
   "source": [
    "subject_num = len(DATA)\n",
    "print(subject_num)\n",
    "\n",
    "condition_num = 2 # here we only look at the first 2 conditions\n",
    "\n",
    "trial_num = len(DATA['subject0']['condition0']['r'])\n",
    "print(trial_num)\n",
    "\n",
    "trial_num_L = len(DATA_L['subject0']['condition0']['r'])\n",
    "print(trial_num_L)"
   ]
  },
  {
   "cell_type": "markdown",
   "metadata": {},
   "source": [
    "## pulling specific subjects "
   ]
  },
  {
   "cell_type": "code",
   "execution_count": 183,
   "metadata": {},
   "outputs": [
    {
     "data": {
      "text/plain": [
       "(3, 7)"
      ]
     },
     "execution_count": 183,
     "metadata": {},
     "output_type": "execute_result"
    }
   ],
   "source": [
    "subjects_to_pull = ['subject4', 'subject11','subject14'] # from the first dictionary\n",
    "subjects_to_pull_L = ['subject0', 'subject1','subject2','subject3','subject4','subject5','subject6'] # from the second dictionary\n",
    "len(subjects_to_pull), len(subjects_to_pull_L)"
   ]
  },
  {
   "cell_type": "code",
   "execution_count": 184,
   "metadata": {},
   "outputs": [
    {
     "data": {
      "text/plain": [
       "dict_keys(['subject0', 'subject1', 'subject2', 'subject3', 'subject4', 'subject5', 'subject6', 'subject7', 'subject8', 'subject9'])"
      ]
     },
     "execution_count": 184,
     "metadata": {},
     "output_type": "execute_result"
    }
   ],
   "source": [
    "DATA_new = {'subject0':DATA.get(subjects_to_pull[0]), \n",
    "            'subject1':DATA.get(subjects_to_pull[1]),\n",
    "            'subject2':DATA.get(subjects_to_pull[2]),\n",
    "            'subject3':DATA_L.get(subjects_to_pull_L[0]),\n",
    "            'subject4':DATA_L.get(subjects_to_pull_L[1]),\n",
    "            'subject5':DATA_L.get(subjects_to_pull_L[2]),\n",
    "            'subject6':DATA_L.get(subjects_to_pull_L[3]),\n",
    "            'subject7':DATA_L.get(subjects_to_pull_L[4]),\n",
    "            'subject8':DATA_L.get(subjects_to_pull_L[5]),\n",
    "            'subject9':DATA_L.get(subjects_to_pull_L[6])}\n",
    "# DATA_new.update(DATA.get(subjects_to_pull[1]))\n",
    "# DATA_new.update(DATA.get(subjects_to_pull[2]))\n",
    "DATA_new.keys()"
   ]
  },
  {
   "cell_type": "code",
   "execution_count": 186,
   "metadata": {},
   "outputs": [
    {
     "data": {
      "text/plain": [
       "10"
      ]
     },
     "execution_count": 186,
     "metadata": {},
     "output_type": "execute_result"
    }
   ],
   "source": [
    "subject_num = len(DATA_new)\n",
    "subject_num"
   ]
  },
  {
   "cell_type": "markdown",
   "metadata": {},
   "source": [
    "# Time domain task performance (15 subjects)"
   ]
  },
  {
   "cell_type": "markdown",
   "metadata": {},
   "source": [
    "## one example trial"
   ]
  },
  {
   "cell_type": "code",
   "execution_count": 185,
   "metadata": {},
   "outputs": [
    {
     "name": "stdout",
     "output_type": "stream",
     "text": [
      "[1.66666667e-02 3.33333333e-02 5.00000000e-02 ... 3.99666667e+01\n",
      " 3.99833333e+01 4.00000000e+01]\n",
      "2400\n"
     ]
    }
   ],
   "source": [
    "fs = 60         # sampling rate (Hz)\n",
    "t0 = 1/fs       # first time step\n",
    "T = 40          # total duration (s)\n",
    "time = np.arange(t0, t0+T, 1/fs) # timestamps\n",
    "N = len(time)   # number of samples\n",
    "print(time)\n",
    "print(N)"
   ]
  },
  {
   "cell_type": "code",
   "execution_count": 214,
   "metadata": {},
   "outputs": [
    {
     "data": {
      "image/png": "[encoded data removed]",
      "text/plain": [
       "<Figure size 360x216 with 1 Axes>"
      ]
     },
     "metadata": {
      "needs_background": "light"
     },
     "output_type": "display_data"
    }
   ],
   "source": [
    "# one example trial of the slider task\n",
    "iK = 8 # subject\n",
    "iC = 0 # condition \n",
    "iT = -1 # trial\n",
    "ref = np.asarray(DATA_new['subject'+str(iK)]['condition'+str(iC)]['r'])[iT]\n",
    "cursor = np.asarray(DATA_new['subject'+str(iK)]['condition'+str(iC)]['y'])[iT]\n",
    "\n",
    "fig, ax = plt.subplots(figsize=(5, 3))\n",
    "ax.plot(time, ref, label='reference', color = colors['GOLD'])\n",
    "ax.plot(time, cursor, label='cursor', color = colors['PURPLE'])\n",
    "ax.legend(bbox_to_anchor = (0.9,1.2),ncol = 2,frameon = False)\n",
    "ax.set_xlabel('time (s)')\n",
    "ax.set_ylabel('position')\n",
    "\n",
    "ax.spines['top'].set_visible(False)\n",
    "ax.spines['right'].set_visible(False)\n",
    "ax.spines['bottom'].set_visible(False)\n",
    "ax.spines['left'].set_visible(False)\n",
    "\n",
    "plt.show()"
   ]
  },
  {
   "cell_type": "markdown",
   "metadata": {},
   "source": [
    "## average time domain task error "
   ]
  },
  {
   "cell_type": "code",
   "execution_count": 231,
   "metadata": {},
   "outputs": [
    {
     "name": "stdout",
     "output_type": "stream",
     "text": [
      "(10, 2, 2400)\n"
     ]
    }
   ],
   "source": [
    "# avergae time domain error per condition per subject, averaged across trials\n",
    "avg_task_performance = np.empty((subject_num, condition_num, N)) \n",
    "for iK in range(subject_num):\n",
    "    for iC in range(condition_num):\n",
    "        r = np.asarray(DATA_new['subject'+str(iK)]['condition'+str(iC)]['r']) # reference\n",
    "        y = np.asarray(DATA_new['subject'+str(iK)]['condition'+str(iC)]['y']) # cursor\n",
    "        e = np.abs(r - y) # time domain error\n",
    "        avg_task_performance[iK,iC,:] = np.mean( e ,axis=0) # average across trials\n",
    "print(avg_task_performance.shape) # 10 subject x 2 condition (slider, emg) x time"
   ]
  },
  {
   "cell_type": "code",
   "execution_count": 232,
   "metadata": {},
   "outputs": [
    {
     "name": "stderr",
     "output_type": "stream",
     "text": [
      "No handles with labels found to put in legend.\n"
     ]
    },
    {
     "data": {
      "image/png": "[encoded data removed]",
      "text/plain": [
       "<Figure size 432x288 with 1 Axes>"
      ]
     },
     "metadata": {
      "needs_background": "light"
     },
     "output_type": "display_data"
    }
   ],
   "source": [
    "iK = 8 # subject\n",
    "iC = 0 # condition \n",
    "plt.plot(time, avg_task_performance[iK,iC,:])\n",
    "plt.xlabel('time (s)')\n",
    "plt.ylabel('error')\n",
    "plt.legend()\n",
    "plt.show()"
   ]
  },
  {
   "cell_type": "markdown",
   "metadata": {},
   "source": [
    "## distribution of time domain error (avg of all trials)"
   ]
  },
  {
   "cell_type": "code",
   "execution_count": 241,
   "metadata": {},
   "outputs": [
    {
     "data": {
      "image/png": "[encoded data removed]",
      "text/plain": [
       "<Figure size 360x216 with 1 Axes>"
      ]
     },
     "metadata": {
      "needs_background": "light"
     },
     "output_type": "display_data"
    }
   ],
   "source": [
    "condtion_labels = ['Slider','EMG']\n",
    "condition_colors = ['orange','purple']\n",
    "# condition_colors = ['blue','green']\n",
    "fig, ax = plt.subplots(figsize=(5, 3))\n",
    "for iC in [0,1]: # condition\n",
    "    mean, quantile25, quantile50, quantile75 = mean_and_interquartile(avg_task_performance[:,iC,:], axis = 0) # distribution across subjects\n",
    "\n",
    "    ax.plot(time, quantile50,label = condtion_labels[iC], color = condition_colors[iC]) # median, interquartiles\n",
    "    ax.fill_between(time, quantile25, quantile75, alpha=0.2, color = condition_colors[iC])\n",
    "    ax.set_xlabel('time (s)')\n",
    "    ax.set_ylabel('Average task error')\n",
    "ax.legend(ncol =2 , frameon = False, bbox_to_anchor = (0.9,1.2))\n",
    "ax.spines['top'].set_visible(False)\n",
    "ax.spines['right'].set_visible(False)\n",
    "ax.spines['bottom'].set_visible(False)\n",
    "ax.spines['left'].set_visible(False)\n",
    "\n",
    "plt.show()   "
   ]
  },
  {
   "cell_type": "markdown",
   "metadata": {},
   "source": [
    "# Subjects to pull"
   ]
  },
  {
   "cell_type": "code",
   "execution_count": 16,
   "metadata": {},
   "outputs": [
    {
     "name": "stdout",
     "output_type": "stream",
     "text": [
      "(3, 2, 10, 2400)\n",
      "(3, 2, 10, 2400)\n",
      "(3, 2, 10)\n",
      "(3,)\n",
      "(3,)\n",
      "(3,)\n"
     ]
    }
   ],
   "source": [
    "# for the first set of exp\n",
    "subjects_to_pull = ['subject4', 'subject11','subject14']\n",
    "new_subject_num = len(subjects_to_pull)\n",
    "\n",
    "ref = np.zeros((new_subject_num, condition_num, trial_num, N))\n",
    "dis = np.zeros((new_subject_num, condition_num, trial_num, N))\n",
    "cursor = np.zeros((new_subject_num, condition_num, trial_num, N))\n",
    "for iK,key in enumerate(subjects_to_pull):\n",
    "    ref[iK] = np.stack((np.asarray(DATA[key]['condition0']['r']),np.asarray(DATA[key]['condition1']['r'])))\n",
    "    dis[iK] = np.stack((np.asarray(DATA[key]['condition0']['d']),np.asarray(DATA[key]['condition1']['d'])))\n",
    "    cursor[iK] = np.stack((np.asarray(DATA[key]['condition0']['y']),np.asarray(DATA[key]['condition1']['y'])))\n",
    "\n",
    "print(ref.shape) # subject x condition x trial x timestamos (2400)\n",
    "\n",
    "abs_error = np.abs(ref-cursor)\n",
    "print(abs_error.shape) # subject x condition x trial x timestamos (2400)\n",
    "\n",
    "MSE_error = np.mean(abs_error**2,axis = 3) # MSE of each trial\n",
    "print(MSE_error.shape)  # subject x condition x trial\n",
    "\n",
    "# MSE of all trials\n",
    "MSE_error_average_subject = np.mean(MSE_error, axis = (1,2)) # MSE of each trial, take the average across subjects\n",
    "print(MSE_error_average_subject.shape) # for each subject\n",
    "\n",
    "# MSE of just EMG trials\n",
    "MSE_error_average_subject_EMG = np.mean(MSE_error[:,1,:], axis = 1) # MSE of each trial, take the average across subjects\n",
    "print(MSE_error_average_subject_EMG.shape) # for each subject\n",
    "\n",
    "# MSE of just slider trials\n",
    "MSE_error_average_subject_slider = np.mean(MSE_error[:,0,:], axis = 1) # MSE of each trial, take the average across subjects\n",
    "print(MSE_error_average_subject_slider.shape) # for each subject"
   ]
  },
  {
   "cell_type": "code",
   "execution_count": 17,
   "metadata": {},
   "outputs": [
    {
     "name": "stdout",
     "output_type": "stream",
     "text": [
      "(7, 2, 4, 2400)\n",
      "(7, 2, 4, 2400)\n",
      "(7, 2, 4)\n",
      "(7,)\n",
      "(7,)\n",
      "(7,)\n"
     ]
    }
   ],
   "source": [
    "# for the second set of exp\n",
    "subjects_to_pull_L = ['subject0', 'subject1', 'subject2', 'subject3', 'subject4','subject5', 'subject6']\n",
    "new_subject_num_L = len(subjects_to_pull_L)\n",
    "\n",
    "ref = np.zeros((new_subject_num_L, condition_num, trial_num_L, N))\n",
    "dis = np.zeros((new_subject_num_L, condition_num, trial_num_L, N))\n",
    "cursor = np.zeros((new_subject_num_L, condition_num, trial_num_L, N))\n",
    "for iK,key in enumerate(subjects_to_pull_L):\n",
    "    ref[iK] = np.stack((np.asarray(DATA_L[key]['condition0']['r']),np.asarray(DATA_L[key]['condition1']['r'])))\n",
    "    dis[iK] = np.stack((np.asarray(DATA_L[key]['condition0']['d']),np.asarray(DATA_L[key]['condition1']['d'])))\n",
    "    cursor[iK] = np.stack((np.asarray(DATA_L[key]['condition0']['y']),np.asarray(DATA_L[key]['condition1']['y'])))\n",
    "\n",
    "print(ref.shape) # subject x condition x trial x timestamos (2400)\n",
    "\n",
    "abs_error = np.abs(ref-cursor)\n",
    "print(abs_error.shape) # subject x condition x trial x timestamos (2400)\n",
    "\n",
    "MSE_error = np.mean(abs_error**2,axis = 3) # MSE of each trial # subject x condition x trial\n",
    "print(MSE_error.shape)\n",
    "\n",
    "# MSE of all trials\n",
    "MSE_error_average_subject_L = np.mean(MSE_error, axis = (1,2)) # MSE of each trial, take the average across subjects\n",
    "print(MSE_error_average_subject_L.shape) # for each subject\n",
    "\n",
    "# MSE of just EMG trials\n",
    "MSE_error_average_subject_EMG_L = np.mean(MSE_error[:,1,:], axis = 1) # MSE of each trial, take the average across subjects\n",
    "print(MSE_error_average_subject_EMG_L.shape) # for each subject\n",
    "\n",
    "# MSE of just slider trials\n",
    "MSE_error_average_subject_slider_L = np.mean(MSE_error[:,0,:], axis = 1) # MSE of each trial, take the average across subjects\n",
    "print(MSE_error_average_subject_slider_L.shape) # for each subject"
   ]
  },
  {
   "cell_type": "code",
   "execution_count": 18,
   "metadata": {},
   "outputs": [],
   "source": [
    "# for all conditions\n",
    "MSE_all = np.concatenate((MSE_error_average_subject,MSE_error_average_subject_L))\n",
    "\n",
    "# for EMG condition\n",
    "MSE_EMG = np.concatenate((MSE_error_average_subject_EMG,MSE_error_average_subject_EMG_L))\n",
    "\n",
    "# for slider condition\n",
    "MSE_slider = np.concatenate((MSE_error_average_subject_slider,MSE_error_average_subject_slider_L))"
   ]
  },
  {
   "cell_type": "code",
   "execution_count": 19,
   "metadata": {},
   "outputs": [
    {
     "data": {
      "image/png": "[encoded data removed]",
      "text/plain": [
       "<Figure size 432x288 with 1 Axes>"
      ]
     },
     "metadata": {
      "needs_background": "light"
     },
     "output_type": "display_data"
    }
   ],
   "source": [
    "plt.plot(MSE_all,'-o')\n",
    "plt.plot(MSE_EMG,'-o')\n",
    "plt.plot(MSE_slider,'-o')\n",
    "plt.xlabel('subject')\n",
    "plt.ylabel('MSE')\n",
    "plt.legend(['all','EMG','slider'])\n",
    "# plt.ylim([-0.1,2])\n",
    "plt.show()"
   ]
  },
  {
   "cell_type": "markdown",
   "metadata": {},
   "source": [
    "# correlation between MSE and hours/week of gaming"
   ]
  },
  {
   "cell_type": "code",
   "execution_count": 20,
   "metadata": {},
   "outputs": [
    {
     "data": {
      "image/png": "[encoded data removed]",
      "text/plain": [
       "<Figure size 432x288 with 1 Axes>"
      ]
     },
     "metadata": {
      "needs_background": "light"
     },
     "output_type": "display_data"
    }
   ],
   "source": [
    "gaming_hours = np.array([0,0,9,1,0.5,2,0,1.5,20,2])\n",
    "\n",
    "plt.scatter(gaming_hours,MSE_all)\n",
    "plt.scatter(gaming_hours,MSE_EMG)\n",
    "plt.scatter(gaming_hours,MSE_slider)\n",
    "plt.ylabel('MSE')\n",
    "plt.xlabel('gaming hours')\n",
    "plt.legend(['all','EMG','slider'])\n",
    "# plt.xlim(0,5)\n",
    "# plt.ylim(0,5)\n",
    "plt.show()"
   ]
  },
  {
   "cell_type": "code",
   "execution_count": null,
   "metadata": {},
   "outputs": [],
   "source": [
    "# gaming_hours = np.array([0,0,9,1,0.5,2,0,1.5,20,2])\n",
    "\n",
    "# slope, intercept, r, p, std_err = stats.linregress(gaming_hours, MSE_EMG)\n",
    "\n",
    "# def myfunc(x):\n",
    "#   return slope * x + intercept\n",
    "\n",
    "# mymodel = list(map(myfunc, x))\n",
    "\n",
    "# plt.scatter(gaming_hours,MSE_all)\n",
    "# plt.scatter(gaming_hours,MSE_EMG)\n",
    "# plt.plot(gaming_hours, mymodel)\n",
    "# plt.scatter(gaming_hours,MSE_slider)\n",
    "\n",
    "# plt.ylabel('MSE')\n",
    "# plt.xlabel('gaming hours')\n",
    "# plt.legend(['all','EMG','slider'])\n",
    "# plt.show()"
   ]
  },
  {
   "cell_type": "markdown",
   "metadata": {},
   "source": [
    "# Game devices"
   ]
  },
  {
   "cell_type": "code",
   "execution_count": 22,
   "metadata": {},
   "outputs": [],
   "source": [
    "gaming_devices_list = np.array([\"mouse/keyboard\",\"mouse/keyboard\", \"handheld controller\",\"mobile device\", \"handheld controller\", \"touchscreen\",\"mouse/keyboard\", \"mouse/keyboard\", \"mouse/keyboard\"])\n",
    "MSE_devices_EMG = np.array([7.12645752e-03, 7.13747462e-01, 7.13747462e-01, 4.46574249e+01, 4.46574249e+01, 6.03655861e-02, 3.95241354e+00, 6.74038744e-03, 5.63767900e-03])\n",
    "MSE_devices_Slider = np.array([0.02243655, 0.08939555, 0.08939555, 0.23071282, 0.23071282, 0.04775822, 0.07374536, 0.03312134, 0.01516393])"
   ]
  },
  {
   "cell_type": "code",
   "execution_count": 23,
   "metadata": {},
   "outputs": [
    {
     "data": {
      "text/plain": [
       "<matplotlib.legend.Legend at 0x15ba6fb1c40>"
      ]
     },
     "execution_count": 23,
     "metadata": {},
     "output_type": "execute_result"
    },
    {
     "data": {
      "image/png": "[encoded data removed]",
      "text/plain": [
       "<Figure size 432x288 with 1 Axes>"
      ]
     },
     "metadata": {
      "needs_background": "light"
     },
     "output_type": "display_data"
    }
   ],
   "source": [
    "# Width of each bar\n",
    "bar_width = 0.35\n",
    "\n",
    "# Create an array of indices for the x-axis\n",
    "x = range(len(gaming_devices_list))\n",
    "# Create the bar plot for the first condition\n",
    "plt.bar(x, MSE_devices_EMG, width=bar_width, label='EMG', color='purple')\n",
    "# Create the bar plot for the second condition\n",
    "plt.bar([i + bar_width for i in x], MSE_devices_Slider, width=bar_width, label='Slider', color='orange')\n",
    "# Set labels for the x and y axes\n",
    "plt.xlabel('Devices')\n",
    "plt.ylabel('MSE')\n",
    "# Set the x-axis tick positions and labels\n",
    "plt.xticks([i + bar_width / 2 for i in x], gaming_devices_list, fontsize = 6)\n",
    "plt.ylim(0, 1)\n",
    "# Add a legend\n",
    "plt.legend()"
   ]
  },
  {
   "cell_type": "markdown",
   "metadata": {},
   "source": [
    "## combine the same devices"
   ]
  },
  {
   "cell_type": "code",
   "execution_count": 119,
   "metadata": {},
   "outputs": [],
   "source": [
    "gaming_devices_list = np.array([\"mouse/keyboard\",\"mouse/keyboard\", \"handheld controller\",\"mobile device\", \"handheld controller\", \"touchscreen\",\"mouse/keyboard\", \"mouse/keyboard\", \"mouse/keyboard\"])\n",
    "MSE_devices_EMG = np.array([7.12645752e-03, 7.13747462e-01, 7.13747462e-01, 4.46574249e+01, 4.46574249e+01, 6.03655861e-02, 3.95241354e+00, 6.74038744e-03, 5.63767900e-03])\n",
    "MSE_devices_Slider = np.array([0.02243655, 0.08939555, 0.08939555, 0.23071282, 0.23071282, 0.04775822, 0.07374536, 0.03312134, 0.01516393])\n",
    "\n",
    "# gaming_devices_list = np.array([\"mouse/keyboard\",\"mouse/keyboard\", \"handheld controller\", \"touchscreen\",\"mouse/keyboard\", \"mouse/keyboard\", \"mouse/keyboard\"])\n",
    "# MSE_devices_EMG = np.array([7.12645752e-03, 7.13747462e-01, 7.13747462e-01, 6.03655861e-02, 3.95241354e+00, 6.74038744e-03, 5.63767900e-03])\n",
    "# MSE_devices_Slider = np.array([0.02243655, 0.08939555, 0.08939555,0.04775822, 0.07374536, 0.03312134, 0.01516393])\n"
   ]
  },
  {
   "cell_type": "code",
   "execution_count": 120,
   "metadata": {},
   "outputs": [
    {
     "name": "stdout",
     "output_type": "stream",
     "text": [
      "                           EMG    slider\n",
      "mouse/keyboard        0.007126  0.022437\n",
      "mouse/keyboard        0.713747  0.089396\n",
      "handheld controller   0.713747  0.089396\n",
      "touch screen         44.657425  0.230713\n",
      "handheld controller  44.657425  0.230713\n",
      "touch screen          0.060366  0.047758\n",
      "mouse/keyboard        3.952414  0.073745\n",
      "mouse/keyboard        0.006740  0.033121\n",
      "mouse/keyboard        0.005638  0.015164\n"
     ]
    }
   ],
   "source": [
    "import pandas as pd\n",
    "\n",
    "my_array = np.stack((MSE_devices_EMG,MSE_devices_Slider))\n",
    "df = pd.DataFrame(my_array, columns =[\"mouse/keyboard\",\"mouse/keyboard\", \"handheld controller\",\"mobile device\", \"handheld controller\", \"touchscreen\",\"mouse/keyboard\", \"mouse/keyboard\", \"mouse/keyboard\"])\n",
    "# df = pd.DataFrame(my_array, columns =[\"mouse/keyboard\",\"mouse/keyboard\", \"handheld controller\", \"touchscreen\",\"mouse/keyboard\", \"mouse/keyboard\", \"mouse/keyboard\"])\n",
    "df = df.T\n",
    "# print(df)\n",
    "\n",
    "# call all mobile devices as 'touchscreen'\n",
    "df.index = df.index.map(lambda x: 'touch screen' if x in ['mobile device', 'touchscreen'] else x)\n",
    "\n",
    "\n",
    "df.columns = ['EMG', 'slider']\n",
    "print(df)"
   ]
  },
  {
   "cell_type": "code",
   "execution_count": 123,
   "metadata": {},
   "outputs": [
    {
     "name": "stdout",
     "output_type": "stream",
     "text": [
      "               Devices        EMG    slider\n",
      "0  handheld controller  22.685586  0.160054\n",
      "1       mouse/keyboard   0.937133  0.046773\n",
      "2         touch screen  22.358895  0.139236\n"
     ]
    }
   ],
   "source": [
    "result_df = df.groupby(df.index).mean().reset_index()\n",
    "# Rename the columns if needed\n",
    "result_df.columns = ['Devices','EMG', 'slider']\n",
    "\n",
    "# Print the resulting DataFrame\n",
    "print(result_df)"
   ]
  },
  {
   "cell_type": "code",
   "execution_count": 124,
   "metadata": {},
   "outputs": [
    {
     "data": {
      "image/png": "[encoded data removed]",
      "text/plain": [
       "<Figure size 288x216 with 1 Axes>"
      ]
     },
     "metadata": {
      "needs_background": "light"
     },
     "output_type": "display_data"
    },
    {
     "data": {
      "image/png": "[encoded data removed]",
      "text/plain": [
       "<Figure size 288x216 with 1 Axes>"
      ]
     },
     "metadata": {
      "needs_background": "light"
     },
     "output_type": "display_data"
    }
   ],
   "source": [
    "gaming_devices_combine = np.array([\"handheld \\n controller\", \"mouse \\n keyboard\",\"touchscreen\"])\n",
    "# Width of each bar\n",
    "bar_width = 0.3\n",
    "# Create the bar plot for the first condition\n",
    "fig, ax = plt.subplots(figsize = (4,3))\n",
    "ax.bar(gaming_devices_combine, result_df.EMG.values, width=bar_width, color='purple')\n",
    "ax.set_xticklabels(gaming_devices_combine,fontsize=12)\n",
    "# Set labels for the x and y axes\n",
    "ax.set_xlabel('Devices')\n",
    "ax.set_ylabel('Task Performance')\n",
    "ax.set_title('EMG')\n",
    "\n",
    "ax.spines['top'].set_visible(False)\n",
    "ax.spines['right'].set_visible(False)\n",
    "ax.spines['bottom'].set_visible(False)\n",
    "ax.spines['left'].set_visible(False)\n",
    "\n",
    "plt.show()\n",
    "\n",
    "gaming_devices_combine = np.array([\"handheld \\n controller\", \"mouse \\n keyboard\",\"touchscreen\"])\n",
    "# Width of each bar\n",
    "bar_width = 0.3\n",
    "# Create the bar plot for the first condition\n",
    "fig, ax = plt.subplots(figsize = (4,3))\n",
    "ax.bar(gaming_devices_combine, result_df.slider.values, width=bar_width, color='orange')\n",
    "ax.set_xticklabels(gaming_devices_combine,fontsize=12)\n",
    "# Set labels for the x and y axes\n",
    "ax.set_xlabel('Devices')\n",
    "ax.set_ylabel('Task Performance')\n",
    "ax.set_title('Slider')\n",
    "\n",
    "ax.spines['top'].set_visible(False)\n",
    "ax.spines['right'].set_visible(False)\n",
    "ax.spines['bottom'].set_visible(False)\n",
    "ax.spines['left'].set_visible(False)\n",
    "\n",
    "plt.show()"
   ]
  },
  {
   "cell_type": "markdown",
   "metadata": {},
   "source": [
    "# barplot for MSE vs hours for slider and emg"
   ]
  },
  {
   "cell_type": "code",
   "execution_count": 125,
   "metadata": {},
   "outputs": [
    {
     "data": {
      "image/png": "[encoded data removed]",
      "text/plain": [
       "<Figure size 432x288 with 1 Axes>"
      ]
     },
     "metadata": {
      "needs_background": "light"
     },
     "output_type": "display_data"
    }
   ],
   "source": [
    "gaming_devices_list = np.array([\"mouse \\n keyboard\", \"handheld \\n  controller\",\"mobile \\n  device\", \"touchscreen\"])\n",
    "frequency_device = np.array([4, 2, 3, 3])\n",
    "# Width of each bar\n",
    "bar_width = 0.35\n",
    "fig, ax = plt.subplots()\n",
    "# Create the bar plot for the first condition\n",
    "ax.bar(gaming_devices_list, frequency_device, width=bar_width, color='purple')\n",
    "ax.set_xticklabels(gaming_devices_list,fontsize=12)\n",
    "# Set labels for the x and y axes\n",
    "ax.set_xlabel('Devices')\n",
    "ax.set_ylabel('# of subjects')\n",
    "\n",
    "ax.spines['top'].set_visible(False)\n",
    "ax.spines['right'].set_visible(False)\n",
    "ax.spines['bottom'].set_visible(False)\n",
    "ax.spines['left'].set_visible(False)"
   ]
  },
  {
   "cell_type": "code",
   "execution_count": 130,
   "metadata": {},
   "outputs": [
    {
     "data": {
      "image/png": "[encoded data removed]",
      "text/plain": [
       "<Figure size 360x216 with 1 Axes>"
      ]
     },
     "metadata": {
      "needs_background": "light"
     },
     "output_type": "display_data"
    }
   ],
   "source": [
    "gaming_devices_combine = np.array([\"handheld \\n controller\", \"mouse \\n keyboard\",\"touchscreen\"])\n",
    "frequency_device = np.array([2,4,6])\n",
    "# Width of each bar\n",
    "bar_width = 0.3\n",
    "fig, ax = plt.subplots(figsize = (5,3))\n",
    "# Create the bar plot for the first condition\n",
    "ax.bar(gaming_devices_combine, frequency_device, width=bar_width, color='purple')\n",
    "ax.set_xticklabels(gaming_devices_combine,fontsize=12)\n",
    "# Set labels for the x and y axes\n",
    "ax.set_xlabel('Devices')\n",
    "ax.set_ylabel('# of subjects')\n",
    "\n",
    "ax.spines['top'].set_visible(False)\n",
    "ax.spines['right'].set_visible(False)\n",
    "ax.spines['bottom'].set_visible(False)\n",
    "ax.spines['left'].set_visible(False)"
   ]
  },
  {
   "cell_type": "markdown",
   "metadata": {},
   "source": [
    "# frequency of hours barplot"
   ]
  },
  {
   "cell_type": "code",
   "execution_count": 37,
   "metadata": {},
   "outputs": [],
   "source": [
    "# gave first three all one because i don't have access to this right now\n",
    "easy_level_EMG = np.array([2, 2, 1, 1, 2, 3, 3, 1, 2, 2])\n",
    "easy_level_slider = np.array([5, 4, 4, 4, 2, 4, 5, 3, 4, 3])\n",
    "# Width of each bar\n",
    "bar_width = 0.35\n",
    "# Create an array of indices for the x-axis\n",
    "x = range(len(gaming_hours))"
   ]
  },
  {
   "cell_type": "code",
   "execution_count": 38,
   "metadata": {},
   "outputs": [],
   "source": [
    "sorted_x, sorted_easy_level_slider = zip(*sorted(zip(x, easy_level_slider)))\n",
    "sorted_x, sorted_easy_level_EMG = zip(*sorted(zip(x, easy_level_EMG)))"
   ]
  },
  {
   "cell_type": "code",
   "execution_count": 39,
   "metadata": {},
   "outputs": [
    {
     "data": {
      "text/plain": [
       "<matplotlib.legend.Legend at 0x15bde6963d0>"
      ]
     },
     "execution_count": 39,
     "metadata": {},
     "output_type": "execute_result"
    },
    {
     "data": {
      "image/png": "[encoded data removed]",
      "text/plain": [
       "<Figure size 432x288 with 1 Axes>"
      ]
     },
     "metadata": {
      "needs_background": "light"
     },
     "output_type": "display_data"
    }
   ],
   "source": [
    "# Create the bar plot for the first condition\n",
    "plt.bar(sorted_x, sorted_easy_level_EMG, width=bar_width, label='EMG', color='purple')\n",
    "# Create the bar plot for the second condition\n",
    "plt.bar([i + bar_width for i in sorted_x], sorted_easy_level_slider, width=bar_width, label='Slider', color='orange')\n",
    "# Set labels for the x and y axes\n",
    "plt.xlabel('Devices')\n",
    "plt.ylabel('Ease of Use')\n",
    "# Set the x-axis tick positions and labels\n",
    "plt.xticks([i + bar_width / 2 for i in x], gaming_hours, fontsize = 6)\n",
    "# Add a legend\n",
    "plt.legend()"
   ]
  },
  {
   "cell_type": "code",
   "execution_count": 40,
   "metadata": {},
   "outputs": [
    {
     "data": {
      "text/plain": [
       "((2, 2, 1, 1, 2, 3, 3, 1, 2, 2), (5, 4, 4, 4, 2, 4, 5, 3, 4, 3))"
      ]
     },
     "execution_count": 40,
     "metadata": {},
     "output_type": "execute_result"
    }
   ],
   "source": [
    "# sorted_easy_level_EMG\n",
    "sorted_easy_level_EMG, sorted_easy_level_slider"
   ]
  },
  {
   "cell_type": "code",
   "execution_count": 41,
   "metadata": {},
   "outputs": [
    {
     "data": {
      "image/png": "[encoded data removed]",
      "text/plain": [
       "<Figure size 288x216 with 1 Axes>"
      ]
     },
     "metadata": {
      "needs_background": "light"
     },
     "output_type": "display_data"
    }
   ],
   "source": [
    "# Create a figure and axis object\n",
    "fig, ax = plt.subplots(figsize = (4,3))\n",
    "\n",
    "# Combine the data from both matrices into a single list \n",
    "combined_data = [sorted_easy_level_EMG, sorted_easy_level_slider]\n",
    "\n",
    "# Create the box plot with two boxes for the two matrices\n",
    "matrix_labels = ['EMG','slider']\n",
    "box = ax.boxplot(combined_data, labels=matrix_labels, patch_artist=True)\n",
    "\n",
    "# Set the fill color and median line color for each box\n",
    "# box_colors = ['darkblue', 'blue','lightblue']\n",
    "# box_colors = ['#458B74', '#66CDAA','#7FFFD4']\n",
    "box_colors = ['purple','orange']\n",
    "median_line_color = 'black'\n",
    "\n",
    "for i, (patch, color) in enumerate(zip(box['boxes'], box_colors)):\n",
    "    patch.set_facecolor(color)\n",
    "    # patch.set_edgecolor('black')  # Set the edge color of the box\n",
    "    # patch.set_linewidth(1.5)  # Set the line width of the box\n",
    "\n",
    "    # Find the median line and set its color\n",
    "    median_line = box['medians'][i]\n",
    "    median_line.set_color(median_line_color)\n",
    "    median_line.set_linewidth(1)\n",
    "\n",
    "# Set the title and labels\n",
    "# ax.set_title('MSE task error, average across conditions and blocks')\n",
    "ax.set_ylabel(r'difficulty of use')\n",
    "ax.set_xlabel('Interface')\n",
    "# Set the x-axis ticks and labels\n",
    "# ax.set_xticks(box_x_positions+1)\n",
    "ax.set_xticklabels(matrix_labels)\n",
    "# Show the plot\n",
    "# Set the title and labels\n",
    "ax.spines['top'].set_visible(False)\n",
    "ax.spines['right'].set_visible(False)\n",
    "ax.spines['bottom'].set_visible(False)\n",
    "ax.spines['left'].set_visible(False)\n",
    "ax.set_xticklabels(matrix_labels)\n",
    "plt.show()\n"
   ]
  },
  {
   "cell_type": "markdown",
   "metadata": {},
   "source": [
    "# bar plot for ease of use vs. interfaces"
   ]
  },
  {
   "cell_type": "code",
   "execution_count": 152,
   "metadata": {},
   "outputs": [
    {
     "data": {
      "text/html": [
       "<div>\n",
       "<style scoped>\n",
       "    .dataframe tbody tr th:only-of-type {\n",
       "        vertical-align: middle;\n",
       "    }\n",
       "\n",
       "    .dataframe tbody tr th {\n",
       "        vertical-align: top;\n",
       "    }\n",
       "\n",
       "    .dataframe thead th {\n",
       "        text-align: right;\n",
       "    }\n",
       "</style>\n",
       "<table border=\"1\" class=\"dataframe\">\n",
       "  <thead>\n",
       "    <tr style=\"text-align: right;\">\n",
       "      <th></th>\n",
       "      <th>difficulty</th>\n",
       "      <th>hours</th>\n",
       "      <th>frequency</th>\n",
       "    </tr>\n",
       "  </thead>\n",
       "  <tbody>\n",
       "    <tr>\n",
       "      <th>0</th>\n",
       "      <td>1.0</td>\n",
       "      <td>0.0</td>\n",
       "      <td>3.0</td>\n",
       "    </tr>\n",
       "    <tr>\n",
       "      <th>1</th>\n",
       "      <td>1.0</td>\n",
       "      <td>0.0</td>\n",
       "      <td>3.0</td>\n",
       "    </tr>\n",
       "    <tr>\n",
       "      <th>2</th>\n",
       "      <td>1.0</td>\n",
       "      <td>9.0</td>\n",
       "      <td>1.0</td>\n",
       "    </tr>\n",
       "    <tr>\n",
       "      <th>3</th>\n",
       "      <td>1.0</td>\n",
       "      <td>1.0</td>\n",
       "      <td>1.0</td>\n",
       "    </tr>\n",
       "    <tr>\n",
       "      <th>4</th>\n",
       "      <td>1.0</td>\n",
       "      <td>0.5</td>\n",
       "      <td>1.0</td>\n",
       "    </tr>\n",
       "    <tr>\n",
       "      <th>5</th>\n",
       "      <td>2.0</td>\n",
       "      <td>2.0</td>\n",
       "      <td>2.0</td>\n",
       "    </tr>\n",
       "    <tr>\n",
       "      <th>6</th>\n",
       "      <td>3.0</td>\n",
       "      <td>0.0</td>\n",
       "      <td>3.0</td>\n",
       "    </tr>\n",
       "    <tr>\n",
       "      <th>7</th>\n",
       "      <td>1.0</td>\n",
       "      <td>1.5</td>\n",
       "      <td>1.0</td>\n",
       "    </tr>\n",
       "    <tr>\n",
       "      <th>8</th>\n",
       "      <td>2.0</td>\n",
       "      <td>20.0</td>\n",
       "      <td>1.0</td>\n",
       "    </tr>\n",
       "    <tr>\n",
       "      <th>9</th>\n",
       "      <td>2.0</td>\n",
       "      <td>2.0</td>\n",
       "      <td>2.0</td>\n",
       "    </tr>\n",
       "  </tbody>\n",
       "</table>\n",
       "</div>"
      ],
      "text/plain": [
       "   difficulty  hours  frequency\n",
       "0         1.0    0.0        3.0\n",
       "1         1.0    0.0        3.0\n",
       "2         1.0    9.0        1.0\n",
       "3         1.0    1.0        1.0\n",
       "4         1.0    0.5        1.0\n",
       "5         2.0    2.0        2.0\n",
       "6         3.0    0.0        3.0\n",
       "7         1.0    1.5        1.0\n",
       "8         2.0   20.0        1.0\n",
       "9         2.0    2.0        2.0"
      ]
     },
     "execution_count": 152,
     "metadata": {},
     "output_type": "execute_result"
    }
   ],
   "source": [
    "Arrays = np.array([[1, 0.0, 3], # ease of use , hours, number of subjects \n",
    "                    [1, 0.0, 3],\n",
    "                    [1, 9.0, 1],\n",
    "                    [1, 1.0, 1],\n",
    "                    [1, 0.5, 1],\n",
    "                    [2, 2.0, 2],\n",
    "                    [3, 0.0, 3],\n",
    "                    [1, 1.5, 1],\n",
    "                    [2, 20.0, 1],\n",
    "                    [2, 2.0, 2]])\n",
    "df = pd.DataFrame(Arrays, columns =[\"difficulty\",\"hours\", \"frequency\"])\n",
    "df"
   ]
  },
  {
   "cell_type": "code",
   "execution_count": 155,
   "metadata": {},
   "outputs": [
    {
     "data": {
      "image/png": "[encoded data removed]",
      "text/plain": [
       "<Figure size 360x360 with 2 Axes>"
      ]
     },
     "metadata": {
      "needs_background": "light"
     },
     "output_type": "display_data"
    }
   ],
   "source": [
    "# Create a DataFrame with 10 subjects\n",
    "\n",
    "# Create a pivot table to count the frequency of each combination\n",
    "pivot_table = df.pivot_table(index='hours', columns='difficulty', aggfunc='size', fill_value=0)\n",
    "\n",
    "# Create a heatmap\n",
    "plt.figure(figsize=(5, 5))\n",
    "plt.imshow(pivot_table, cmap=\"YlGnBu\")\n",
    "\n",
    "plt.title('Heatmap of Difficulty vs. Hours')\n",
    "plt.xlabel('Difficulties')\n",
    "plt.ylabel('Hours')\n",
    "plt.colorbar()  # Add a color bar\n",
    "plt.show()"
   ]
  },
  {
   "cell_type": "code",
   "execution_count": 131,
   "metadata": {},
   "outputs": [
    {
     "data": {
      "image/png": "[encoded data removed]",
      "text/plain": [
       "<Figure size 432x288 with 2 Axes>"
      ]
     },
     "metadata": {
      "needs_background": "light"
     },
     "output_type": "display_data"
    }
   ],
   "source": [
    "# data_EMG = {\"subject 0\": [1, 0.0, 3], # ease of use , hours, number of subjects \n",
    "#             \"subject 1\": [1, 0.0, 3],\n",
    "#             \"subject 2\": [1, 9.0, 1],\n",
    "#             \"subject 3\": [1, 1.0, 1],\n",
    "#             \"subject 4\": [1, 0.5, 1],\n",
    "#             \"subject 5\": [2, 2.0, 2],\n",
    "#             \"subject 6\": [3, 0.0, 3],\n",
    "#             \"subject 7\": [1, 1.5, 1],\n",
    "#             \"subject 8\": [2, 20.0, 1],\n",
    "#             \"subject 9\": [2, 2.0, 2]\n",
    "# }\n",
    "# df = pd.DataFrame(data_EMG)\n",
    "\n",
    "# plt.imshow(df, cmap='YlGnBu')\n",
    "# plt.xlabel(\"Subjects\")\n",
    "# plt.ylabel(\"Difficulty\")\n",
    "# plt.colorbar()  # Add a color bar\n",
    "# plt.show()"
   ]
  }
 ],
 "metadata": {
  "kernelspec": {
   "display_name": "base",
   "language": "python",
   "name": "python3"
  },
  "language_info": {
   "codemirror_mode": {
    "name": "ipython",
    "version": 3
   },
   "file_extension": ".py",
   "mimetype": "text/x-python",
   "name": "python",
   "nbconvert_exporter": "python",
   "pygments_lexer": "ipython3",
   "version": "3.8.3"
  },
  "orig_nbformat": 4
 },
 "nbformat": 4,
 "nbformat_minor": 2
}
