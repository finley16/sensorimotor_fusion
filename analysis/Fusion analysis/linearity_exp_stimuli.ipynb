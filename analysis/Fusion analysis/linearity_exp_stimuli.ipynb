{
 "cells": [
  {
   "attachments": {},
   "cell_type": "markdown",
   "metadata": {},
   "source": [
    "# Set up"
   ]
  },
  {
   "cell_type": "code",
   "execution_count": 9,
   "metadata": {},
   "outputs": [],
   "source": [
    "import numpy as np\n",
    "import matplotlib\n",
    "import matplotlib.pyplot as plt\n",
    "import pandas as pd\n",
    "from scipy import signal, fft\n",
    "import math as math\n",
    "import os\n",
    "from matplotlib.patches import Polygon\n",
    "import copy"
   ]
  },
  {
   "cell_type": "code",
   "execution_count": 10,
   "metadata": {},
   "outputs": [],
   "source": [
    "#determine colors and font size|\n",
    "colors = dict(M='#6600CC',\n",
    "              F='#000000',\n",
    "              B='#FFFFFF',\n",
    "              H='#009900',\n",
    "              r='#FDB119',\n",
    "              u='#009900',\n",
    "              u25='#BBF90F',\n",
    "              u75='#006400',\n",
    "              d='#FD6E19',\n",
    "              #y='#0033FF',  #or 6600CC which is darker and I prefer \n",
    "              y='#6600CC',  #or 6600CC which is darker and I prefer \n",
    "              N='#0000CC',\n",
    "              D='#CC0000',\n",
    "              g='#B1B1B1', #grey\n",
    "              first5='#B1B1B1',\n",
    "              last5='#999999')\n",
    "              # D = dominant = right; N = nondominant = left\n",
    "yfill = list(matplotlib.colors.to_rgba(colors['y']))\n",
    "yfill[-1] = 0.3\n",
    "\n",
    "ufill = list(matplotlib.colors.to_rgba(colors['u']))\n",
    "ufill[-1] = 0.3\n",
    "\n",
    "gfill = list(matplotlib.colors.to_rgba(colors['g']))\n",
    "gfill[-1] = 0.3\n",
    "\n",
    "rfill = list(matplotlib.colors.to_rgba(colors['r']))\n",
    "rfill[-1] = 0.3\n",
    "\n",
    "font = {#'family' : 'normal',\n",
    "        # 'weight' : 'bold',\n",
    "        'size'   : 12}\n",
    "\n",
    "matplotlib.rc('font', **font)"
   ]
  },
  {
   "attachments": {},
   "cell_type": "markdown",
   "metadata": {},
   "source": [
    "## Import & manage data (all trials), pilot data"
   ]
  },
  {
   "cell_type": "code",
   "execution_count": 11,
   "metadata": {},
   "outputs": [
    {
     "data": {
      "text/plain": [
       "['20230511-123313_Fusion23so_dis_demoing_so_r-sos-E_d-sos+O_s49_p0a1.npz',\n",
       " '20230511-123417_Fusion23so_ref_demoing_so_r-sos-O_d-sos+E_s49_p1a2.npz']"
      ]
     },
     "execution_count": 11,
     "metadata": {},
     "output_type": "execute_result"
    }
   ],
   "source": [
    "#import all data from git\n",
    "path0 = 'C:/Users/amber/Documents/GitHub/sensorimotor_fusion/data/linearity_stimuli_example'\n",
    "# function that filters npz files\n",
    "def fun(f):\n",
    "    if f.endswith('.npz') and not f.endswith('rst0.npz') and not f.endswith('rst1.npz') and not f.endswith('rst2.npz'):\n",
    "        return True\n",
    "    else:\n",
    "        return False\n",
    "\n",
    "files_0 = os.listdir(path0) \n",
    "files_0 = list(filter(fun, files_0))\n",
    "files_0"
   ]
  },
  {
   "cell_type": "code",
   "execution_count": 12,
   "metadata": {},
   "outputs": [
    {
     "data": {
      "text/plain": [
       "dict_keys(['trial0', 'trial1'])"
      ]
     },
     "execution_count": 12,
     "metadata": {},
     "output_type": "execute_result"
    }
   ],
   "source": [
    "DEMO = {}\n",
    "i = 0\n",
    "for trials in files_0:\n",
    "    #make a dict for each trial in the folder\n",
    "    trial = dict(np.load(os.path.join(path0, trials), allow_pickle=True))\n",
    "    #delete \"filename\"\n",
    "    del trial['filename']\n",
    "    #eliminate first 5 seconds of data\n",
    "    for k in range(len(trial.keys())):\n",
    "      trial[list(trial.keys())[k]] = trial[list(trial.keys())[k]][301:-1]\n",
    "    #create a nested dict, including all trials\n",
    "    DEMO['trial'+str(i)] = trial\n",
    "    i+=1\n",
    "\n",
    "DEMO.keys()"
   ]
  },
  {
   "cell_type": "code",
   "execution_count": 13,
   "metadata": {},
   "outputs": [
    {
     "data": {
      "text/plain": [
       "dict_keys(['inp_', 'realtime_', 'ref_', 'time_', 'inp0_', 'out_', 'state_', 'dis_', 'inp1_'])"
      ]
     },
     "execution_count": 13,
     "metadata": {},
     "output_type": "execute_result"
    }
   ],
   "source": [
    "DEMO['trial0'].keys()"
   ]
  },
  {
   "attachments": {},
   "cell_type": "markdown",
   "metadata": {},
   "source": [
    "# Data Analysis"
   ]
  },
  {
   "cell_type": "code",
   "execution_count": 14,
   "metadata": {},
   "outputs": [
    {
     "name": "stderr",
     "output_type": "stream",
     "text": [
      "<ipython-input-14-d18c82c494ed>:7: RuntimeWarning: divide by zero encountered in true_divide\n",
      "  M = lambda s : 1/(s**2 + s)\n",
      "<ipython-input-14-d18c82c494ed>:7: RuntimeWarning: invalid value encountered in true_divide\n",
      "  M = lambda s : 1/(s**2 + s)\n"
     ]
    }
   ],
   "source": [
    "def FFT(data,N):\n",
    "  return fft.fft(data)/N\n",
    "\n",
    "def IFFT(data,N):\n",
    "  return (fft.ifft(data)*N).real\n",
    "\n",
    "M = lambda s : 1/(s**2 + s)\n",
    "\n",
    "num_cond = 7 #number of conditions\n",
    "\n",
    "scaleOutputScreen = 1/4\n",
    "scaleInput = 0.04616974606700115\n",
    "\n",
    "#parameters (same for all three conditions)\n",
    "trialnum0 = len(DEMO.keys())         #number of data trials, trial0 ~ trial3\n",
    "\n",
    "trialnum = [trialnum0]\n",
    "\n",
    "fs = 60                               #pygame update rate 60 Hz\n",
    "base_freq = 0.05                      #1/20 Hz\n",
    "N = len(DEMO['trial0']['time_'])    #data length\n",
    "xf_all = fft.fftfreq(N, 1./ fs)       #freq (x-axis) both + and - terms\n",
    "xf = fft.fftfreq(N, 1./ fs)[:N//2]    #freq (x-axis) positive-frequency terms\n",
    "M_h = M(1.j*2*np.pi*xf_all)           #M_hat = 1/ ((jw)^2 + (jw))\n",
    "t = DEMO['trial0']['time_']         #time\n",
    "prime = np.asarray([2, 3, 5, 7, \n",
    "                    11, 13, 17, 19])  #prime numbers\n",
    "\n",
    "stimulated_index = prime*2 #array([ 4,  6, 10, 14, 22, 26, 34, 38])\n",
    "stimulated_freq = prime*base_freq\n",
    "\n",
    "def Analysis(data,trialnum):\n",
    "\n",
    "  r = []      #r, reference (time)\n",
    "  Md = []     #Md, disturbance (time)\n",
    "  y = []      #y, output (time)\n",
    "  r_h = []    #r_hat, reference (freq)\n",
    "  y_h = []    #y_hat, output (freq)\n",
    "  Md_h = []   #Md_hat, disturbance (freq)\n",
    "  Wr_h = []   #Wr_hat, M^{-1}r_hat (freq)\n",
    "  Wr = []     #Wr, M^{-1}r (time)\n",
    "  u_h = []    #u_hat, input (freq)\n",
    "  u = []      #u, input (time)\n",
    "  u0_h = []   #u0_hat, emg input (freq)\n",
    "  u0 = []     #u0, emg input (time)\n",
    "  u1_h = []   #u1_hat, slider input (freq)\n",
    "  u1 = []     #u1, slider input (time)\n",
    "  d_h = []    #d_hat, disturbance (freq)\n",
    "  d = []      #d, disturbance (time)\n",
    "\n",
    "  for i in range(trialnum):\n",
    "    \n",
    "    #(1) output \n",
    "    r.append( data['trial'+str(i)]['ref_'] )\n",
    "    d.append( data['trial'+str(i)]['dis_'] )\n",
    "    y.append( data['trial'+str(i)]['out_'] )\n",
    "    \n",
    "    #(2) fft (entire freq term)\n",
    "    r_h.append( FFT(r[i],N) )\n",
    "    y_h.append( FFT(y[i],N) )\n",
    "    d_h.append( FFT(d[i],N) )\n",
    "\n",
    "    #(3) M^{-1}r_hat = Wr_hat = r_hat / M_hat in freq domain and Wr in time domain\n",
    "    Wr_h.append( r_h[i] / M_h )\n",
    "    Wr_h[i][0] = 0 #nan\n",
    "    Wr.append( IFFT(Wr_h[i],N) )\n",
    "    \n",
    "    #(4) input(u): u_hat in freq domain and u in time domain\n",
    "    u_h.append( FFT(data['trial'+str(i)]['inp_'],N) ) #combined input\n",
    "    u.append( IFFT(u_h[i],N) )\n",
    "\n",
    "    u0_h.append( FFT(data['trial'+str(i)]['inp0_'],N) ) #seperated emg input\n",
    "    u0.append( IFFT(u0_h[i],N) )\n",
    "\n",
    "    u1_h.append( FFT(data['trial'+str(i)]['inp1_'],N) ) #seperated slider input \n",
    "    u1.append( IFFT(u1_h[i],N) )\n",
    "\n",
    "    #(5) disturbance(d): d_hat = Md_hat/M_hat in freq domain and d in time domain\n",
    "    Md_h.append( d_h[i] * M_h )\n",
    "    Md_h[i][0] = 0 #nan\n",
    "    Md.append( IFFT(Md_h[i],N) )\n",
    "\n",
    "    #output scaling\n",
    "    r[i] = r[i]*scaleOutputScreen\n",
    "    y[i] = y[i]*scaleOutputScreen\n",
    "    Md[i] = Md[i]*scaleOutputScreen\n",
    "    r_h[i] = r_h[i]*scaleOutputScreen\n",
    "    y_h[i] = y_h[i]*scaleOutputScreen\n",
    "    Md_h[i] = Md_h[i]*scaleOutputScreen\n",
    "\n",
    "    #input scaling\n",
    "    d[i] = d[i]*scaleInput\n",
    "    Wr[i] = Wr[i]*scaleInput\n",
    "    u[i] = u[i]*scaleInput\n",
    "    u0[i] = u0[i]*scaleInput\n",
    "    u1[i] = u1[i]*scaleInput\n",
    "    d_h[i] = d_h[i]*scaleInput\n",
    "    Wr_h[i] = Wr_h[i]*scaleInput\n",
    "    u_h[i] = u_h[i]*scaleInput\n",
    "    u0_h[i] = u0_h[i]*scaleInput\n",
    "    u1_h[i] = u1_h[i]*scaleInput    \n",
    "\n",
    "  #create dict\n",
    "  time_domain = {'Md':Md,'r':r,'y':y,'d':d,'Wr':Wr,'u':u,'u0':u0,'u1':u1} #time domain\n",
    "  freq_domain = {'MD':Md_h,'R':r_h,'Y':y_h,'D':d_h,'WR':Wr_h,'U':u_h,'U0':u0_h,'U1':u1_h} #freq domain\n",
    "\n",
    "  return time_domain, freq_domain"
   ]
  },
  {
   "cell_type": "code",
   "execution_count": 15,
   "metadata": {},
   "outputs": [
    {
     "name": "stderr",
     "output_type": "stream",
     "text": [
      "<ipython-input-14-d18c82c494ed>:64: RuntimeWarning: invalid value encountered in true_divide\n",
      "  Wr_h.append( r_h[i] / M_h )\n",
      "<ipython-input-14-d18c82c494ed>:79: RuntimeWarning: invalid value encountered in multiply\n",
      "  Md_h.append( d_h[i] * M_h )\n"
     ]
    }
   ],
   "source": [
    "time_slider, freq_slider = Analysis(DEMO,trialnum[0])"
   ]
  },
  {
   "attachments": {},
   "cell_type": "markdown",
   "metadata": {},
   "source": [
    "## plot stimuli"
   ]
  },
  {
   "cell_type": "code",
   "execution_count": 16,
   "metadata": {},
   "outputs": [
    {
     "data": {
      "image/png": "[encoded data removed]",
      "text/plain": [
       "<Figure size 576x216 with 2 Axes>"
      ]
     },
     "metadata": {
      "needs_background": "light"
     },
     "output_type": "display_data"
    }
   ],
   "source": [
    "# plt.figure(figsize=(8, 2))\n",
    "p = 10 #subject number\n",
    "c = 2 #condition number\n",
    "\n",
    "font = {#'family' : 'normal',\n",
    "        # 'weight' : 'bold',\n",
    "        'size'   : 14}\n",
    "\n",
    "matplotlib.rc('font', **font)\n",
    "\n",
    "fig,axs = plt.subplots(1, 2,sharex = True,sharey = True,figsize=(8, 3)) \n",
    "\n",
    "xticks = prime*0.05\n",
    "xticklabels =np.round(prime*0.05,2)\n",
    "\n",
    "ax = axs[0]\n",
    "i = 0 #trial number\n",
    "ax.vlines(xf[stimulated_index],ymin=-0.3, ymax=10,linewidth=1, color='0.8',alpha = 0.5)\n",
    "R = np.abs( freq_slider['R'][i][:N//2] )\n",
    "MD = np.abs( freq_slider['MD'][i][:N//2] )\n",
    "ax.scatter(xf[stimulated_index],100*R[stimulated_index], color=colors['r'],label=r'$\\widehat{r}$',s=50)\n",
    "ax.scatter(xf[stimulated_index],100*MD[stimulated_index], color=colors['d'],label=r'$\\widehat{M}\\widehat{d}$',facecolors='none',s=50)\n",
    "ax.vlines(xf[stimulated_index],np.zeros((len(stimulated_freq),)),100*R[stimulated_index],color=colors['r'],linewidth = 3)\n",
    "ax.vlines(xf[stimulated_index],np.zeros((len(stimulated_freq),)),100*MD[stimulated_index],linestyles='--',color=colors['d'],linewidth = 3)\n",
    "ax.set_xlim((0,21*base_freq))\n",
    "ax.set_ylim((-0.2,6))\n",
    "# ax.set_xlabel('frequency (Hz)')\n",
    "ax.set_ylabel('magnitude (%)')\n",
    "ax.set_xticks(xticks)\n",
    "ax.set_xticklabels(xticklabels,rotation=90)\n",
    "ax.set_title('dis-only condition')\n",
    "# ax.legend( loc='upper right', ncol=2, frameon=True)\n",
    "ax.legend( loc='upper right', ncol=1, frameon=True, prop={'size': 15},facecolor = 'white',framealpha = 1)\n",
    "\n",
    "\n",
    "ax = axs[1]\n",
    "i = 1 #trial number\n",
    "ax.vlines(xf[stimulated_index],ymin=-0.3, ymax=10,linewidth=1, color='0.8',alpha = 0.5)\n",
    "R = np.abs( freq_slider['R'][i][:N//2] )\n",
    "MD = np.abs( freq_slider['MD'][i][:N//2] )\n",
    "ax.scatter(xf[stimulated_index],100*R[stimulated_index], color=colors['r'],label=r'$\\widehat{r}$',s=50)\n",
    "ax.scatter(xf[stimulated_index],100*MD[stimulated_index], color=colors['d'],label=r'$\\widehat{M}\\widehat{d}$',facecolors='none',s=50)\n",
    "ax.vlines(xf[stimulated_index],np.zeros((len(stimulated_freq),)),100*R[stimulated_index],color=colors['r'],linewidth = 3)\n",
    "ax.vlines(xf[stimulated_index],np.zeros((len(stimulated_freq),)),100*MD[stimulated_index],linestyles='--',color=colors['d'],linewidth = 3)\n",
    "ax.set_xlim((0,21*base_freq))\n",
    "ax.set_ylim((-0.2,6))\n",
    "# ax.set_xlabel('frequency (Hz)')\n",
    "# ax.set_ylabel('magnitude (%)')\n",
    "ax.set_xticks(xticks)\n",
    "ax.set_xticklabels(xticklabels,rotation=90)\n",
    "ax.set_title('ref-only condition')\n",
    "ax.legend( loc='upper right', ncol=1, frameon=True, prop={'size': 15},facecolor = 'white',framealpha = 1)\n",
    "fig.text(0.52, -0.01, 'frequency (Hz)', ha='center',wrap=True)\n",
    "\n",
    "plt.tight_layout()\n",
    "plt.show()"
   ]
  }
 ],
 "metadata": {
  "kernelspec": {
   "display_name": "base",
   "language": "python",
   "name": "python3"
  },
  "language_info": {
   "codemirror_mode": {
    "name": "ipython",
    "version": 3
   },
   "file_extension": ".py",
   "mimetype": "text/x-python",
   "name": "python",
   "nbconvert_exporter": "python",
   "pygments_lexer": "ipython3",
   "version": "3.8.3"
  },
  "orig_nbformat": 4
 },
 "nbformat": 4,
 "nbformat_minor": 2
}
