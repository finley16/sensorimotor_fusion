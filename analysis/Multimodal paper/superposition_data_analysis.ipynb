{
 "cells": [
  {
   "cell_type": "code",
   "execution_count": 1,
   "metadata": {},
   "outputs": [
    {
     "name": "stderr",
     "output_type": "stream",
     "text": [
      "c:\\Users\\amber\\Documents\\GitHub\\sensorimotor_fusion\\analysis\\Multimodal paper\\globalVars.py:29: RuntimeWarning: divide by zero encountered in true_divide\n",
      "  soM = lambda s : 1/(s**2 + s) #2nd order machine\n",
      "c:\\Users\\amber\\Documents\\GitHub\\sensorimotor_fusion\\analysis\\Multimodal paper\\globalVars.py:29: RuntimeWarning: invalid value encountered in true_divide\n",
      "  soM = lambda s : 1/(s**2 + s) #2nd order machine\n"
     ]
    }
   ],
   "source": [
    "import matplotlib.pyplot as plt\n",
    "from scipy import signal\n",
    "import numpy as np\n",
    "from scipy.optimize import minimize\n",
    "import sys\n",
    "import os\n",
    "import glob\n",
    "import importlib\n",
    "import numpy as np\n",
    "import pylab as plt\n",
    "import matplotlib\n",
    "import math \n",
    "from matplotlib import rc\n",
    "import sys\n",
    "from scipy.optimize import curve_fit\n",
    "import seaborn as sns\n",
    "\n",
    "# auto reload modules\n",
    "%load_ext autoreload\n",
    "%autoreload 2\n",
    "sys.path.append('C:\\\\Users\\\\amber\\\\Documents\\\\GitHub\\\\sensorimotor_fusion\\\\analysis\\\\Multimodal paper') # change this for your computer\n",
    "# from supportFile2 import findFFT,plotThingsEO,findFilename,geterr #Momona's code for even and odd trials\n",
    "from globalVars import *\n",
    "from collect_data import findFilename, getrawdata, get_data, analyze\n",
    "fmts = ['svg','pdf']\n",
    "import pandas as pd\n",
    "from scipy.stats import wilcoxon, ttest_rel, friedmanchisquare, shapiro\n",
    "import pickle as pickle\n",
    "from scipy import signal, fft\n",
    "font = {'family' : 'DejaVu Sans',\n",
    "        'weight' : 'bold',\n",
    "        'size'   : 12}\n",
    "matplotlib.rc('font', **font)\n",
    "takeAvgBA = True\n",
    "prop_cycle = plt.rcParams['axes.prop_cycle']\n",
    "python_colors = prop_cycle.by_key()['color'] # python default color cycle\n",
    "\n",
    "DATA_PATH = 'C:\\\\Users\\\\amber\\\\Documents\\\\GitHub\\\\sensorimotor_fusion' #change this for your computer"
   ]
  },
  {
   "cell_type": "code",
   "execution_count": 2,
   "metadata": {},
   "outputs": [],
   "source": [
    "from globalVars import *\n",
    "from collect_data import findFilename, getrawdata, get_data, analyze\n",
    "from analysis import *"
   ]
  },
  {
   "cell_type": "code",
   "execution_count": 3,
   "metadata": {},
   "outputs": [
    {
     "name": "stdout",
     "output_type": "stream",
     "text": [
      "data length =  2400\n",
      "primes =  [ 2  3  5  7 11 13 17 19]\n",
      "base freq =  0.05\n",
      "IX =  [ 4  6 10 14 22 26 34 38]\n",
      "Even_IX =  [ 6 14 26 38]\n",
      "Odd_IX =  [ 4 10 22 34]\n",
      "freqs =  [0.1  0.15 0.25 0.35 0.55 0.65 0.85 0.95]\n",
      "omegas =  [0.62831853 0.9424778  1.57079633 2.19911486 3.45575192 4.08407045\n",
      " 5.34070751 5.96902604]\n",
      "T =  40\n",
      "t =  [0.00000000e+00 1.66736140e-02 3.33472280e-02 ... 3.99666528e+01\n",
      " 3.99833264e+01 4.00000000e+01]\n",
      "fs =  60\n",
      "sample_period (dt)=  0.016666666666666666\n",
      "xf =  [0.0000e+00 2.5000e-02 5.0000e-02 ... 2.9925e+01 2.9950e+01 2.9975e+01]\n",
      "Machine =  [-0.7169568 -1.14107219j -0.52958685-0.5619091j  -0.28840044-0.18360142j\n",
      " -0.17134712-0.0779164j  -0.07726649-0.02235881j -0.05656227-0.01384948j\n",
      " -0.03387172-0.00634218j -0.02730057-0.00457371j]\n",
      "scaleInput =  0.04616974606700115\n",
      "scaleOutputScreen =  0.25\n"
     ]
    }
   ],
   "source": [
    "print('data length = ',N)\n",
    "print('primes = ',primes)\n",
    "print('base freq = ',base_freq)\n",
    "print('IX = ',IX)\n",
    "print('Even_IX = ',Even_IX)\n",
    "print('Odd_IX = ',Odd_IX)\n",
    "print('freqs = ',freqs)\n",
    "print('omegas = ',omegas)\n",
    "print('T = ',T) # total time 40 seconds\n",
    "print('t = ',t) # timestamps\n",
    "print('fs = ',fs)\n",
    "print('sample_period (dt)= ',dt)\n",
    "print('xf = ',xf) # frequency domain x-axis, shape (N//2,)\n",
    "print('Machine = ',M) # soM at stimulated freqs\n",
    "print('scaleInput = ',scaleInput)\n",
    "print('scaleOutputScreen = ',scaleOutputScreen)"
   ]
  },
  {
   "cell_type": "markdown",
   "metadata": {},
   "source": [
    "# Collect data"
   ]
  },
  {
   "cell_type": "code",
   "execution_count": 4,
   "metadata": {},
   "outputs": [],
   "source": [
    "# participants\n",
    "keys = ['HCPS116','HCPS117','HCPS118','HCPS119','HCPS120','HCPS121','HCPS122'] # change this for your computer"
   ]
  },
  {
   "cell_type": "code",
   "execution_count": 32,
   "metadata": {},
   "outputs": [
    {
     "name": "stdout",
     "output_type": "stream",
     "text": [
      "analyzing data for HCPS116\\HCPS116_fusion_emg50_dis\n"
     ]
    },
    {
     "name": "stderr",
     "output_type": "stream",
     "text": [
      "c:\\Users\\amber\\Documents\\GitHub\\sensorimotor_fusion\\analysis\\Multimodal paper\\collect_data.py:121: RuntimeWarning: invalid value encountered in multiply\n",
      "  M_D = M_all*DISTS # MD in freq domain\n"
     ]
    },
    {
     "name": "stdout",
     "output_type": "stream",
     "text": [
      "analyzing data for HCPS117\\HCPS117_fusion_emg50_dis\n",
      "analyzing data for HCPS118\\HCPS118_fusion_emg50_dis\n",
      "analyzing data for HCPS119\\HCPS119_fusion_emg50_dis\n",
      "analyzing data for HCPS120\\HCPS120_fusion_emg50_dis\n",
      "analyzing data for HCPS121\\HCPS121_fusion_emg50_dis\n",
      "analyzing data for HCPS122\\HCPS122_fusion_emg50_dis\n",
      "analyzing data for HCPS116\\HCPS116_fusion_emg50_ref\n",
      "analyzing data for HCPS117\\HCPS117_fusion_emg50_ref\n",
      "analyzing data for HCPS118\\HCPS118_fusion_emg50_ref\n",
      "analyzing data for HCPS119\\HCPS119_fusion_emg50_ref\n",
      "analyzing data for HCPS120\\HCPS120_fusion_emg50_ref\n",
      "analyzing data for HCPS121\\HCPS121_fusion_emg50_ref\n",
      "analyzing data for HCPS122\\HCPS122_fusion_emg50_ref\n",
      "analyzing data for HCPS116\\HCPS116_fusion_emg50_ref_dis\n",
      "analyzing data for HCPS117\\HCPS117_fusion_emg50_ref_dis\n",
      "analyzing data for HCPS118\\HCPS118_fusion_emg50_ref_dis\n",
      "analyzing data for HCPS119\\HCPS119_fusion_emg50_ref_dis\n",
      "analyzing data for HCPS120\\HCPS120_fusion_emg50_ref_dis\n",
      "analyzing data for HCPS121\\HCPS121_fusion_emg50_ref_dis\n",
      "analyzing data for HCPS122\\HCPS122_fusion_emg50_ref_dis\n"
     ]
    }
   ],
   "source": [
    "# fusion trials emg various percentages\n",
    "Rs_25,Ds_25,MDs_25,Us_25,U0s_25,U1s_25,Ys_25,rs_25,ds_25,mds_25,us_25,u0s_25,u1s_25,ys_25,errors_25 = analyze(DATA_PATH,keys,'_fusion_emg50_dis')\n",
    "Rs_50,Ds_50,MDs_50,Us_50,U0s_50,U1s_50,Ys_50,rs_50,ds_50,mds_50,us_50,u0s_50,u1s_50,ys_50,errors_50 = analyze(DATA_PATH,keys,'_fusion_emg50_ref')\n",
    "Rs_75,Ds_75,MDs_75,Us_75,U0s_75,U1s_75,Ys_75,rs_75,ds_75,mds_75,us_75,u0s_75,u1s_75,ys_75,errors_75 = analyze(DATA_PATH,keys,'_fusion_emg50_ref_dis')"
   ]
  },
  {
   "cell_type": "code",
   "execution_count": 33,
   "metadata": {},
   "outputs": [
    {
     "data": {
      "text/plain": [
       "((10, 2400),\n",
       " (10, 2400),\n",
       " (10, 2400),\n",
       " (10, 2400),\n",
       " (12, 2400),\n",
       " (10, 2400),\n",
       " (10, 2400))"
      ]
     },
     "execution_count": 33,
     "metadata": {},
     "output_type": "execute_result"
    }
   ],
   "source": [
    "Rs_75[0].shape, Rs_75[1].shape, Rs_75[2].shape, Rs_75[3].shape, Rs_75[4].shape, Rs_75[5].shape, Rs_75[6].shape"
   ]
  },
  {
   "cell_type": "code",
   "execution_count": 34,
   "metadata": {},
   "outputs": [],
   "source": [
    "# remove the 2 additional trials from HCPS120\n",
    "Rs_75[4] = Rs_75[4][-10:]\n",
    "Ds_75[4] = Ds_75[4][-10:]\n",
    "MDs_75[4] = MDs_75[4][-10:]\n",
    "Us_75[4] = Us_75[4][-10:]\n",
    "U0s_75[4] = U0s_75[4][-10:]\n",
    "U1s_75[4] = U1s_75[4][-10:]\n",
    "Ys_75[4] = Ys_75[4][-10:]\n",
    "rs_75[4] = rs_75[4][-10:]\n",
    "ds_75[4] = ds_75[4][-10:]\n",
    "mds_75[4] = mds_75[4][-10:]\n",
    "us_75[4] = us_75[4][-10:]\n",
    "u0s_75[4] = u0s_75[4][-10:]\n",
    "u1s_75[4] = u1s_75[4][-10:]\n",
    "ys_75[4] = ys_75[4][-10:]\n",
    "errors_75[4] = errors_75[4][-10:]\n",
    "\n",
    "Rs_75 = np.stack(Rs_75)\n",
    "Ds_75 = np.stack(Ds_75)\n",
    "MDs_75 = np.stack(MDs_75)\n",
    "Us_75 = np.stack(Us_75)\n",
    "U0s_75 = np.stack(U0s_75)\n",
    "U1s_75 = np.stack(U1s_75)\n",
    "Ys_75 = np.stack(Ys_75)\n",
    "rs_75 = np.stack(rs_75)\n",
    "ds_75 = np.stack(ds_75)\n",
    "mds_75 = np.stack(mds_75)\n",
    "us_75 = np.stack(us_75)\n",
    "u0s_75 = np.stack(u0s_75)\n",
    "u1s_75 = np.stack(u1s_75)\n",
    "ys_75 = np.stack(ys_75)\n",
    "errors_75 = np.stack(errors_75)"
   ]
  },
  {
   "cell_type": "code",
   "execution_count": 35,
   "metadata": {},
   "outputs": [],
   "source": [
    "# concatenate all conditions (alpha = 0, 25, 50, 75, 100), alpha = emg percentage\n",
    "Rs = np.stack(( Rs_25, Rs_50, Rs_75), axis=1) \n",
    "Ds = np.stack(( Ds_25, Ds_50, Ds_75), axis=1) \n",
    "MDs = np.stack(( MDs_25, MDs_50, MDs_75), axis=1)\n",
    "Us = np.stack(( Us_25, Us_50, Us_75), axis=1)\n",
    "U0s = np.stack(( U0s_25, U0s_50, U0s_75), axis=1)\n",
    "U1s = np.stack(( U1s_25, U1s_50, U1s_75), axis=1)\n",
    "Ys = np.stack(( Ys_25, Ys_50, Ys_75), axis=1)\n",
    "rs = np.stack(( rs_25, rs_50, rs_75), axis=1)\n",
    "ds = np.stack(( ds_25, ds_50, ds_75), axis=1)\n",
    "mds = np.stack(( mds_25, mds_50, mds_75), axis=1)\n",
    "us = np.stack(( us_25, us_50, us_75), axis=1)\n",
    "u0s = np.stack(( u0s_25, u0s_50, u0s_75), axis=1)\n",
    "u1s = np.stack(( u1s_25, u1s_50, u1s_75), axis=1)\n",
    "ys = np.stack(( ys_25, ys_50, ys_75), axis=1)\n",
    "errors = np.stack(( errors_25, errors_50, errors_75), axis=1) # subject x condition x trial"
   ]
  },
  {
   "cell_type": "code",
   "execution_count": 36,
   "metadata": {},
   "outputs": [
    {
     "name": "stdout",
     "output_type": "stream",
     "text": [
      "(7, 3, 10, 2400)\n",
      "(7, 3, 10, 2400)\n",
      "(7, 3, 10)\n"
     ]
    }
   ],
   "source": [
    "print(Rs.shape) # subject x condition x trial x all freqs\n",
    "print(rs.shape) # subject x condition x trial x timestamps\n",
    "print(errors.shape) # subject x condition x trial"
   ]
  },
  {
   "cell_type": "code",
   "execution_count": 37,
   "metadata": {},
   "outputs": [
    {
     "name": "stdout",
     "output_type": "stream",
     "text": [
      "subject_num =  7\n",
      "condition_num (alphas) =  3\n",
      "trial_num =  10\n",
      "\n",
      "\n"
     ]
    }
   ],
   "source": [
    "subject_num = len(keys)\n",
    "condition_num = Rs.shape[1]\n",
    "trial_num = Rs.shape[2]\n",
    "print('subject_num = ',subject_num)\n",
    "print('condition_num (alphas) = ',condition_num)\n",
    "print('trial_num = ',trial_num)\n",
    "print('\\n')"
   ]
  },
  {
   "cell_type": "markdown",
   "metadata": {},
   "source": [
    "# Transfer functions"
   ]
  },
  {
   "cell_type": "markdown",
   "metadata": {},
   "source": [
    "## Tur, Tud, Tyr, Tyd from consecutive trials"
   ]
  },
  {
   "cell_type": "code",
   "execution_count": 47,
   "metadata": {},
   "outputs": [],
   "source": [
    "even_trials = [0, 2, 4, 6, 8]\n",
    "odd_trials = [1, 3, 5, 7, 9]"
   ]
  },
  {
   "cell_type": "code",
   "execution_count": 48,
   "metadata": {},
   "outputs": [],
   "source": [
    "def Tranfer_function(R,D,U,type = 'input'): #input_type = 'U', 'U0'(emg in fusion), or 'U1'(slider in fusion) or 'Y' (output)\n",
    "  #find index of simulated freqs: trial 0 is EO (ref - Even, dis - Odd)\n",
    "  # Odd_index = (np.where(abs(condition['R'][0]) > 1e-12)[0])[:4] #array([ 6, 14, 26, 38])\n",
    "  # Even_index = (np.where(abs(condition['D'][0]) > 1e-12)[0])[:4]  #array([ 4, 10, 22, 34])\n",
    "\n",
    "  # R, D, U, Y were rescaled to -15%~15% of the screen/slider size for visaulization, scale them back to original\n",
    "  if type == 'input':\n",
    "    R = R/scaleOutputScreen\n",
    "    D = D/scaleInput\n",
    "    U = U/scaleInput\n",
    "  elif type == 'output':\n",
    "    R = R/scaleOutputScreen\n",
    "    D = D/scaleInput\n",
    "    U = U/scaleOutputScreen # this is Y \n",
    "\n",
    "  Odd_index = np.array([ 6, 14, 26, 38])\n",
    "  Even_index = np.array([ 4, 10, 22, 34])\n",
    "\n",
    "  #number of Tur & Tud = half(trials) (1 EO & 1 OE trial together as one)\n",
    "  Tur = np.zeros((math.ceil(trial_num/2),8), dtype=complex) #number of stimulatd freqs = 8\n",
    "  Tud = np.zeros((math.ceil(trial_num/2),8), dtype=complex)\n",
    "    \n",
    "  # Tur & Tud at simulated freqs\n",
    "  for i in even_trials: #even trials\n",
    "      Tur[i//2][1::2] = (U[i][Odd_index]) / (R[i][Odd_index])\n",
    "      Tud[i//2][::2] = (U[i][Even_index]) / (D[i][Even_index])\n",
    "\n",
    "  for i in odd_trials: #odd trials\n",
    "      Tur[i//2][::2] = (U[i][Even_index]) / (R[i][Even_index]) \n",
    "      Tud[i//2][1::2] = (U[i][Odd_index]) / (D[i][Odd_index])\n",
    "\n",
    "  return Tur, Tud"
   ]
  },
  {
   "cell_type": "code",
   "execution_count": 49,
   "metadata": {},
   "outputs": [
    {
     "name": "stderr",
     "output_type": "stream",
     "text": [
      "<ipython-input-48-11189c6e9c76>:25: RuntimeWarning: divide by zero encountered in true_divide\n",
      "  Tur[i//2][1::2] = (U[i][Odd_index]) / (R[i][Odd_index])\n",
      "<ipython-input-48-11189c6e9c76>:29: RuntimeWarning: divide by zero encountered in true_divide\n",
      "  Tur[i//2][::2] = (U[i][Even_index]) / (R[i][Even_index])\n",
      "<ipython-input-48-11189c6e9c76>:26: RuntimeWarning: divide by zero encountered in true_divide\n",
      "  Tud[i//2][::2] = (U[i][Even_index]) / (D[i][Even_index])\n",
      "<ipython-input-48-11189c6e9c76>:30: RuntimeWarning: divide by zero encountered in true_divide\n",
      "  Tud[i//2][1::2] = (U[i][Odd_index]) / (D[i][Odd_index])\n",
      "<ipython-input-48-11189c6e9c76>:25: RuntimeWarning: invalid value encountered in true_divide\n",
      "  Tur[i//2][1::2] = (U[i][Odd_index]) / (R[i][Odd_index])\n"
     ]
    }
   ],
   "source": [
    "Tur = np.zeros((subject_num,condition_num,trial_num//2,len(IX)),dtype=complex) #u_fusion / r\n",
    "Tu0r = np.zeros((subject_num,condition_num,trial_num//2,len(IX)),dtype=complex) #u_emg / r\n",
    "Tu1r = np.zeros((subject_num,condition_num,trial_num//2,len(IX)),dtype=complex) #u_slider / r\n",
    "\n",
    "Tud = np.zeros((subject_num,condition_num,trial_num//2,len(IX)),dtype=complex) #u_fusion / d\n",
    "Tu0d = np.zeros((subject_num,condition_num,trial_num//2,len(IX)),dtype=complex) #u_emg / d\n",
    "Tu1d = np.zeros((subject_num,condition_num,trial_num//2,len(IX)),dtype=complex) #u_slider / d\n",
    "\n",
    "Tyr = np.zeros((subject_num,condition_num,trial_num//2,len(IX)),dtype=complex)\n",
    "Tyd = np.zeros((subject_num,condition_num,trial_num//2,len(IX)),dtype=complex)\n",
    "for sub in range(subject_num):\n",
    "    for cond in range(condition_num):\n",
    "        Tur[sub,cond], Tud[sub,cond] = Tranfer_function(Rs[sub,cond],Ds[sub,cond],Us[sub,cond],'input')\n",
    "        Tu0r[sub,cond], Tu0d[sub,cond] = Tranfer_function(Rs[sub,cond],Ds[sub,cond],U0s[sub,cond],'input')\n",
    "        Tu1r[sub,cond], Tu1d[sub,cond] = Tranfer_function(Rs[sub,cond],Ds[sub,cond],U1s[sub,cond],'input')\n",
    "        Tyr[sub,cond], Tyd[sub,cond] = Tranfer_function(Rs[sub,cond],Ds[sub,cond],Ys[sub,cond],'output')"
   ]
  },
  {
   "cell_type": "code",
   "execution_count": 54,
   "metadata": {},
   "outputs": [
    {
     "name": "stdout",
     "output_type": "stream",
     "text": [
      "[ 0.76124015+0.18885611j  1.01223894+0.09244465j  1.12835375+0.20183551j\n",
      "  0.7829023 -0.03840062j  0.54794102-0.66796827j -0.03967612-0.36979917j\n",
      "  0.12814319-0.70395235j  0.09906344+0.33796239j]\n",
      "[ 1.17493773e+14-2.19223281e+15j  1.01223894e+00+9.24446541e-02j\n",
      " -1.52882737e+15+9.49401018e+14j  7.82902298e-01-3.84006157e-02j\n",
      " -1.05942879e+15-2.54426760e+14j -3.96761174e-02-3.69799174e-01j\n",
      " -2.77288956e+15+9.17672359e+14j  9.90634386e-02+3.37962393e-01j]\n"
     ]
    }
   ],
   "source": [
    "# sanity check code\n",
    "sub = 0\n",
    "cond = 2\n",
    "trial = 0\n",
    "print(Tyr[sub,cond,trial])\n",
    "print(Ys[sub,cond,trial,IX] / Rs[sub,cond,trial,IX])\n",
    "# 4 elements should match"
   ]
  },
  {
   "cell_type": "markdown",
   "metadata": {},
   "source": [
    "# Feedforward Feedback"
   ]
  },
  {
   "cell_type": "code",
   "execution_count": 51,
   "metadata": {},
   "outputs": [
    {
     "name": "stdout",
     "output_type": "stream",
     "text": [
      "(7, 3, 10, 2400)\n",
      "(7, 3, 10, 2400)\n",
      "(7, 3, 10)\n",
      "subject_num =  7\n",
      "condition_num (alphas) =  3\n",
      "trial_num =  10\n"
     ]
    }
   ],
   "source": [
    "print(Rs.shape) # subject x condition x trial x all freqs\n",
    "print(rs.shape) # subject x condition x trial x timestamps\n",
    "print(errors.shape) # subject x condition x trial\n",
    "\n",
    "subject_num = Rs.shape[0]\n",
    "condition_num = Rs.shape[1]\n",
    "trial_num = Rs.shape[2]\n",
    "print('subject_num = ',subject_num)\n",
    "print('condition_num (alphas) = ',condition_num)\n",
    "print('trial_num = ',trial_num)\n",
    "alphas = np.array([0,0.25,0.5,0.75,1])\n",
    "# conditions = ['0','0.25','0.5','0.75','1']\n",
    "conditions = ['0','25','50','75','100']"
   ]
  },
  {
   "cell_type": "code",
   "execution_count": 52,
   "metadata": {},
   "outputs": [
    {
     "name": "stdout",
     "output_type": "stream",
     "text": [
      "(7, 3, 5, 8)\n",
      "(7, 3, 5, 8)\n",
      "(7, 3, 5, 8)\n",
      "(7, 3, 5, 8)\n"
     ]
    },
    {
     "name": "stderr",
     "output_type": "stream",
     "text": [
      "<ipython-input-52-5df9eed95cc7>:3: RuntimeWarning: invalid value encountered in multiply\n",
      "  F = (1 + B * M)*Tur - B\n",
      "<ipython-input-52-5df9eed95cc7>:2: RuntimeWarning: invalid value encountered in true_divide\n",
      "  B = - (1 / M) * (Tud / (1+ Tud))\n",
      "<ipython-input-52-5df9eed95cc7>:10: RuntimeWarning: invalid value encountered in multiply\n",
      "  F0 = -B0 + Tu0r + w0 * B0 * M * Tu0r + w1 * B0 * M * Tu1r\n",
      "<ipython-input-52-5df9eed95cc7>:11: RuntimeWarning: invalid value encountered in multiply\n",
      "  F1 = -B1 + Tu1r + w0 * B1 * M * Tu0r + w1 * B1 * M * Tu1r\n",
      "<ipython-input-52-5df9eed95cc7>:8: RuntimeWarning: invalid value encountered in multiply\n",
      "  B0 = (- (1/M) * Tu0d) / (1 + w0*Tu0d + w1*Tu1d)\n",
      "<ipython-input-52-5df9eed95cc7>:8: RuntimeWarning: invalid value encountered in true_divide\n",
      "  B0 = (- (1/M) * Tu0d) / (1 + w0*Tu0d + w1*Tu1d)\n",
      "<ipython-input-52-5df9eed95cc7>:9: RuntimeWarning: invalid value encountered in multiply\n",
      "  B1 = (- (1/M) * Tu1d) / (1 + w0*Tu0d + w1*Tu1d)\n",
      "<ipython-input-52-5df9eed95cc7>:9: RuntimeWarning: invalid value encountered in true_divide\n",
      "  B1 = (- (1/M) * Tu1d) / (1 + w0*Tu0d + w1*Tu1d)\n"
     ]
    }
   ],
   "source": [
    "def FF_FB(Tur,Tud):\n",
    "    B = - (1 / M) * (Tud / (1+ Tud)) \n",
    "    F = (1 + B * M)*Tur - B\n",
    "    return F,B\n",
    "def FF_FB_each_modality(Tu0r,Tu0d,Tu1r,Tu1d,w): #w = weighting of EMG\n",
    "    w0 = w\n",
    "    w1 = 1-w\n",
    "    B0 = (- (1/M) * Tu0d) / (1 + w0*Tu0d + w1*Tu1d)\n",
    "    B1 = (- (1/M) * Tu1d) / (1 + w0*Tu0d + w1*Tu1d)\n",
    "    F0 = -B0 + Tu0r + w0 * B0 * M * Tu0r + w1 * B0 * M * Tu1r\n",
    "    F1 = -B1 + Tu1r + w0 * B1 * M * Tu0r + w1 * B1 * M * Tu1r\n",
    "    return F0,F1,B0,B1\n",
    "\n",
    "F = np.zeros(Tur.shape, dtype=complex) #number of stimulated freqs = 8\n",
    "B = np.zeros(Tur.shape, dtype=complex)\n",
    "for sub in range(subject_num):\n",
    "    for cond in range(condition_num):\n",
    "        for i in range(trial_num//2):\n",
    "            F[sub,cond,i],B[sub,cond,i] = FF_FB(Tur[sub,cond,i],Tud[sub,cond,i])\n",
    "print(F.shape) # subject x condition x trial//2 x stimulated freqs\n",
    "print(B.shape)\n",
    "\n",
    "F0 = np.zeros(Tur.shape, dtype=complex) #number of stimulated freqs = 8\n",
    "F1 = np.zeros(Tur.shape, dtype=complex) #number of stimulated freqs = 8\n",
    "B0 = np.zeros(Tur.shape, dtype=complex)\n",
    "B1 = np.zeros(Tur.shape, dtype=complex)\n",
    "for sub in range(subject_num):\n",
    "    for cond in range(condition_num):\n",
    "        w = alphas[cond]\n",
    "        for i in range(trial_num//2):\n",
    "            F0[sub,cond,i],F1[sub,cond,i],B0[sub,cond,i],B1[sub,cond,i] \\\n",
    "                = FF_FB_each_modality(Tu0r[sub,cond,i],Tu0d[sub,cond,i],Tu1r[sub,cond,i],Tu1d[sub,cond,i],w)\n",
    "print(F0.shape) # subject x condition x trial//2 x stimulated freqs\n",
    "print(B0.shape)"
   ]
  },
  {
   "cell_type": "code",
   "execution_count": 55,
   "metadata": {},
   "outputs": [
    {
     "name": "stdout",
     "output_type": "stream",
     "text": [
      "[ -0.7244208  +0.96072034j  -0.67090614 +1.09670537j\n",
      "  -2.4682972  +2.33246072j  -5.10402284 +1.70277355j\n",
      "  -1.46717089 +3.05200407j  -9.73735819 -1.79636553j\n",
      "  -9.94627474+13.71641504j -16.01091017 +8.53021631j]\n",
      "[ -0.7244208  +0.96072034j  -0.67090614 +1.09670537j\n",
      "  -2.4682972  +2.33246072j  -5.10402284 +1.70277355j\n",
      "  -1.46717089 +3.05200407j  -9.73735819 -1.79636553j\n",
      "  -9.94627474+13.71641504j -16.01091017 +8.53021631j]\n"
     ]
    }
   ],
   "source": [
    "# sanity check F and B\n",
    "sub = 0\n",
    "cond = 2\n",
    "trial = 0\n",
    "print(F[sub,cond,trial])\n",
    "print((F0[sub,cond,trial]+F1[sub,cond,trial])/2) # F = aF0 + (1-a)F1"
   ]
  },
  {
   "cell_type": "markdown",
   "metadata": {},
   "source": [
    "# save pickle"
   ]
  },
  {
   "cell_type": "code",
   "execution_count": 56,
   "metadata": {},
   "outputs": [],
   "source": [
    "# Save the array to a file\n",
    "ALLdata = [Rs,Ds,MDs,Us,U0s,U1s,Ys,rs,ds,mds,us,u0s,u1s,ys,errors,Tur,Tu0r,Tu1r,Tud,Tu0d,Tu1d,Tyr,Tyd,F,B,F0,F1,B0,B1]\n",
    "with open('superposition_data.pkl', 'wb') as file:\n",
    "    pickle.dump(ALLdata, file)\n",
    "\n",
    "# # Load the array from the file\n",
    "# with open('data.pkl', 'rb') as file:\n",
    "#     data = pickle.load(file)"
   ]
  },
  {
   "cell_type": "code",
   "execution_count": null,
   "metadata": {},
   "outputs": [],
   "source": []
  }
 ],
 "metadata": {
  "kernelspec": {
   "display_name": "base",
   "language": "python",
   "name": "python3"
  },
  "language_info": {
   "codemirror_mode": {
    "name": "ipython",
    "version": 3
   },
   "file_extension": ".py",
   "mimetype": "text/x-python",
   "name": "python",
   "nbconvert_exporter": "python",
   "pygments_lexer": "ipython3",
   "version": "3.8.3"
  }
 },
 "nbformat": 4,
 "nbformat_minor": 2
}
