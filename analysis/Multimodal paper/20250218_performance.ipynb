{
 "cells": [
  {
   "cell_type": "code",
   "execution_count": 1,
   "metadata": {},
   "outputs": [],
   "source": [
    "import numpy as np\n",
    "import sys\n",
    "import os\n",
    "import glob\n",
    "import importlib\n",
    "import math as m\n",
    "import pickle as pickle\n",
    "import seaborn as sns\n",
    "import statistics\n",
    "import pandas as pd\n",
    "fmts = ['svg','pdf']\n",
    "from scipy.stats import norm, wilcoxon, ttest_rel, friedmanchisquare, shapiro,f_oneway,friedmanchisquare,rankdata\n",
    "import statsmodels.stats.multitest as smm\n",
    "from scipy import signal, fft\n",
    "from scipy.optimize import curve_fit, minimize\n",
    "import scipy.interpolate as interp\n",
    "import matplotlib # produce matlab-style plots\n",
    "from matplotlib import animation as ani # animation\n",
    "import matplotlib.pyplot as plt # Matlab-style plotting\n",
    "from matplotlib import rcParams\n",
    "from itertools import combinations\n",
    "matplotlib.rc('font',**{'size':20}) # increase font size on plots\n",
    "matplotlib.rc('text',usetex=False) # use LaTeX to render symbols\n",
    "matplotlib.rc('animation',html='html5') # render animation\n",
    "font = {#'family' : 'normal',\n",
    "        'weight' : 'ultralight',\n",
    "        'size'   : 14}\n",
    "matplotlib.rc('font', **font)\n",
    "rcParams['axes.titlesize'] = 16\n",
    "rcParams['font.weight'] = 'ultralight'\n",
    "rcParams['font.family'] = 'sans-serif'\n",
    "rcParams['mathtext.fontset'] = 'cm'\n",
    "prop_cycle = plt.rcParams['axes.prop_cycle']\n",
    "python_colors = prop_cycle.by_key()['color'] # python default color cycle\n",
    "\n",
    "# auto reload modules\n",
    "%load_ext autoreload\n",
    "%autoreload 2\n",
    "sys.path.append('C:\\\\Users\\\\amber\\\\Documents\\\\GitHub\\\\sensorimotor_fusion\\\\analysis\\\\Multimodal paper') # change this for your computer\n",
    "# DATA_PATH = 'C:\\\\Users\\\\amber\\\\Documents\\\\GitHub\\\\sensorimotor_fusion' #change this for your computer"
   ]
  },
  {
   "cell_type": "code",
   "execution_count": 2,
   "metadata": {},
   "outputs": [],
   "source": [
    "from globalVars import *\n",
    "from collect_data import findFilename, getrawdata, get_data, analyze\n",
    "from analysis import *"
   ]
  },
  {
   "cell_type": "code",
   "execution_count": 3,
   "metadata": {},
   "outputs": [
    {
     "name": "stdout",
     "output_type": "stream",
     "text": [
      "data length =  2400\n",
      "primes =  [ 2  3  5  7 11 13 17 19]\n",
      "base freq =  0.05\n",
      "IX =  [ 4  6 10 14 22 26 34 38]\n",
      "Even_IX =  [ 6 14 26 38]\n",
      "Odd_IX =  [ 4 10 22 34]\n",
      "freqs =  [0.1  0.15 0.25 0.35 0.55 0.65 0.85 0.95]\n",
      "omegas =  [0.62831853 0.9424778  1.57079633 2.19911486 3.45575192 4.08407045\n",
      " 5.34070751 5.96902604]\n",
      "T =  40\n",
      "t =  [0.00000000e+00 1.66736140e-02 3.33472280e-02 ... 3.99666528e+01\n",
      " 3.99833264e+01 4.00000000e+01]\n",
      "fs =  60\n",
      "sample_period (dt)=  0.016666666666666666\n",
      "xf =  [0.0000e+00 2.5000e-02 5.0000e-02 ... 2.9925e+01 2.9950e+01 2.9975e+01]\n",
      "Machine =  [-0.7169568 -1.14107219j -0.52958685-0.5619091j  -0.28840044-0.18360142j\n",
      " -0.17134712-0.0779164j  -0.07726649-0.02235881j -0.05656227-0.01384948j\n",
      " -0.03387172-0.00634218j -0.02730057-0.00457371j]\n",
      "scaleInput =  0.04616974606700115\n",
      "scaleOutputScreen =  0.25\n"
     ]
    }
   ],
   "source": [
    "print('data length = ',N)\n",
    "print('primes = ',primes)\n",
    "print('base freq = ',base_freq)\n",
    "print('IX = ',IX)\n",
    "print('Even_IX = ',Even_IX)\n",
    "print('Odd_IX = ',Odd_IX)\n",
    "print('freqs = ',freqs)\n",
    "print('omegas = ',omegas)\n",
    "print('T = ',T) # total time 40 seconds\n",
    "print('t = ',t) # timestamps\n",
    "print('fs = ',fs)\n",
    "print('sample_period (dt)= ',dt)\n",
    "print('xf = ',xf) # frequency domain x-axis, shape (N//2,)\n",
    "print('Machine = ',M) # soM at stimulated freqs\n",
    "print('scaleInput = ',scaleInput)\n",
    "print('scaleOutputScreen = ',scaleOutputScreen)"
   ]
  },
  {
   "cell_type": "markdown",
   "metadata": {},
   "source": [
    "# Load data"
   ]
  },
  {
   "cell_type": "code",
   "execution_count": 253,
   "metadata": {},
   "outputs": [],
   "source": [
    "# with open('multimodal_data.pkl', 'wb') as file:\n",
    "#     pickle.dump(ALLdata, file)\n",
    "\n",
    "# Load the array from the file\n",
    "with open('multimodal_data.pkl', 'rb') as file:\n",
    "    Rs,Ds,Us,U0s,U1s,Ys,rs,ds,us,u0s,u1s,ys,errors,Tur,Tu0r,Tu1r,Tud,Tu0d,Tu1d,Tyr,Tyd,F,B,F0,F1,B0,B1 = pickle.load(file)"
   ]
  },
  {
   "cell_type": "code",
   "execution_count": 254,
   "metadata": {},
   "outputs": [
    {
     "name": "stdout",
     "output_type": "stream",
     "text": [
      "(15, 5, 14, 2400)\n",
      "(15, 5, 14, 2400)\n",
      "(15, 5, 14)\n",
      "subject_num =  15\n",
      "condition_num (alphas) =  5\n",
      "trial_num =  14\n"
     ]
    }
   ],
   "source": [
    "print(Rs.shape) # subject x condition x trial x all freqs\n",
    "print(rs.shape) # subject x condition x trial x timestamps\n",
    "print(errors.shape) # subject x condition x trial\n",
    "\n",
    "subject_num = Rs.shape[0]\n",
    "condition_num = Rs.shape[1]\n",
    "trial_num = Rs.shape[2]\n",
    "print('subject_num = ',subject_num)\n",
    "print('condition_num (alphas) = ',condition_num)\n",
    "print('trial_num = ',trial_num)\n",
    "alphas = np.array([0,0.25,0.5,0.75,1])\n",
    "# conditions = ['0','0.25','0.5','0.75','1']\n",
    "conditions = ['0','25','50','75','100']\n",
    "# conditions = ['0:1','1:3','1:1','3:1','1:0']\n",
    "# conditions = ['0:1','1:3','1:1','3:1','1:0']"
   ]
  },
  {
   "cell_type": "markdown",
   "metadata": {},
   "source": [
    "# Simuli"
   ]
  },
  {
   "cell_type": "code",
   "execution_count": 255,
   "metadata": {},
   "outputs": [
    {
     "data": {
      "text/plain": [
       "[<matplotlib.lines.Line2D at 0x1eb2d388cd0>]"
      ]
     },
     "execution_count": 255,
     "metadata": {},
     "output_type": "execute_result"
    },
    {
     "data": {
      "image/png": "[encoded data removed]",
      "text/plain": [
       "<Figure size 432x288 with 1 Axes>"
      ]
     },
     "metadata": {
      "needs_background": "light"
     },
     "output_type": "display_data"
    }
   ],
   "source": [
    "Stimuli = np.zeros(IX.shape,dtype = complex)\n",
    "Stimuli[::2] = Rs[0,0,-1,IX][::2] \n",
    "Stimuli[1::2] = Rs[0,0,-2,IX][1::2] \n",
    "plt.plot(freqs,np.abs(Stimuli),'-o')\n",
    "\n",
    "Stimuli = np.zeros(IX.shape,dtype = complex)\n",
    "Stimuli[::2] = Ds[0,0,-1,IX][1::2] \n",
    "Stimuli[1::2] = Ds[0,0,-2,IX][::2] \n",
    "plt.plot(freqs,np.abs(M*Stimuli),'-o')"
   ]
  },
  {
   "cell_type": "code",
   "execution_count": 271,
   "metadata": {},
   "outputs": [
    {
     "data": {
      "image/png": "[encoded data removed]",
      "text/plain": [
       "<Figure size 432x288 with 1 Axes>"
      ]
     },
     "metadata": {
      "needs_background": "light"
     },
     "output_type": "display_data"
    }
   ],
   "source": [
    "# Sample data\n",
    "x = np.linspace(0, 10, 100)\n",
    "y1 = np.sin(x)\n",
    "y2 = np.cos(x)\n",
    " \n",
    "# Plotting with labels, different colors, and marker styles\n",
    "plt.plot(x, y1, label='Sine Function', color='skyblue', marker='o')\n",
    "plt.plot(x, y2, label='Cosine Function', color='coral', marker='^')\n",
    " \n",
    "# Customizing legend labels and marker styles\n",
    "plt.legend(labels=['Sin(x) - Circles', 'Cos(x) - Triangles'], loc='lower right', fontsize='medium')\n",
    " \n",
    "# Adding details\n",
    "plt.title('Sine and Cosine Functions with Customized Legends')\n",
    "plt.xlabel('X values')\n",
    "plt.ylabel('Y values')\n",
    " \n",
    "# Displaying the plot\n",
    "plt.show()"
   ]
  },
  {
   "cell_type": "code",
   "execution_count": 296,
   "metadata": {},
   "outputs": [
    {
     "data": {
      "image/png": "[encoded data removed]",
      "text/plain": [
       "<Figure size 576x216 with 2 Axes>"
      ]
     },
     "metadata": {
      "needs_background": "light"
     },
     "output_type": "display_data"
    }
   ],
   "source": [
    "from matplotlib.lines import Line2D\n",
    "xticks = np.array([0.1 , 0.15, 0.25, 0.35, 0.55, 0.65, 0.85, 0.95])\n",
    "xlim = (0.095, 1.0)\n",
    "sub = 0\n",
    "cond = 0\n",
    "\n",
    "fig,axs = plt.subplots(1, 2,sharex = True,sharey = True,figsize=(8, 3)) \n",
    "ax = axs[0]\n",
    "trial = 1\n",
    "ax.vlines(freqs,ymin=-0.001, ymax=0.2,linewidth=1, color='0.8',alpha = 0.5)\n",
    "R = np.abs( Rs[sub,cond,trial,IX] )\n",
    "D = np.abs( M*Ds[sub,cond,trial,IX] )\n",
    "ax.scatter(freqs,R, color='black',label=r'$R$_{odd}',s=50)\n",
    "ax.scatter(freqs,D, color='black',label=r'$D_{even}$',facecolors='none',s=50)\n",
    "ax.vlines(freqs,np.zeros((len(IX),)),R,color='black',linewidth = 3)\n",
    "ax.vlines(freqs,np.zeros((len(IX),)),D,linestyles='--',color='black',linewidth = 3)\n",
    "ax.set_xlim((0,21*base_freq))\n",
    "# ax.set_ylim((-0.2,6))\n",
    "ax.set_xlabel('Frequency (Hz)')\n",
    "ax.set_ylabel('Magnitude')\n",
    "ax.set_xticks(xticks)\n",
    "ax.set_xticklabels(xticks,rotation=90) \n",
    "legend_elements = [Line2D([0], [0], marker='o', color='black' ,label=r'$R$',markersize=10),\n",
    "                   Line2D([0], [0], ls = '--',marker='o',color='black', label=r'$D$',markerfacecolor='none',markersize=10)]\n",
    "ax.legend(handles=legend_elements, loc='upper right', ncol=1, frameon=True, prop={'size': 14},facecolor = 'white',framealpha = 1)\n",
    "ax.set_title('Odd trials')\n",
    "\n",
    "ax = axs[1]\n",
    "trial = 0\n",
    "ax.vlines(freqs,ymin=-0.001, ymax=0.2,linewidth=1, color='0.8',alpha = 0.5)\n",
    "R = np.abs( Rs[sub,cond,trial,IX] )\n",
    "D = np.abs( M*Ds[sub,cond,trial,IX] )\n",
    "ax.scatter(freqs,R, color='black',label=r'$R$_{odd}',s=50)\n",
    "ax.scatter(freqs,D, color='black',label=r'$D_{even}$',facecolors='none',s=50)\n",
    "ax.vlines(freqs,np.zeros((len(IX),)),R,color='black',linewidth = 3)\n",
    "ax.vlines(freqs,np.zeros((len(IX),)),D,linestyles='--',color='black',linewidth = 3)\n",
    "ax.set_xlim((0,21*base_freq))\n",
    "# ax.set_ylim((-0.2,6))\n",
    "ax.set_xlabel('Frequency (Hz)')\n",
    "ax.set_xticks(xticks)\n",
    "ax.set_xticklabels(xticks,rotation=90) \n",
    "legend_elements = [Line2D([0], [0], ls = '--', marker='o',color='black', label=r'$D$',markerfacecolor='none',markersize=10),\n",
    "                   Line2D([0], [0], marker='o', color='black' ,label=r'$R$',markersize=10)]\n",
    "ax.legend(handles=legend_elements, loc='upper right', ncol=1, frameon=True, prop={'size': 14},facecolor = 'white',framealpha = 1)\n",
    "ax.set_title('Even trials')\n",
    "plt.tight_layout()\n",
    "plt.show()"
   ]
  },
  {
   "cell_type": "markdown",
   "metadata": {},
   "source": [
    "# Stats tests"
   ]
  },
  {
   "cell_type": "markdown",
   "metadata": {},
   "source": [
    "Hypothesis: any of the conditions (25, 50, or 75) is better than condition 0 or condition 100. So six pairwise comparisons:\n",
    "25 vs. 0\n",
    "50 vs. 0\n",
    "75 vs. 0\n",
    "25 vs. 100\n",
    "50 vs. 100\n",
    "75 vs. 100"
   ]
  },
  {
   "cell_type": "code",
   "execution_count": 106,
   "metadata": {},
   "outputs": [],
   "source": [
    "def stats_test(datas):\n",
    "    # Compute residuals (observed - condition mean)\n",
    "    residuals_0 = datas[0] - np.mean(datas[0])\n",
    "    residuals_25 = datas[1] - np.mean(datas[1])\n",
    "    residuals_50 = datas[2] - np.mean(datas[2])\n",
    "    residuals_75 = datas[3] - np.mean(datas[3])\n",
    "    residuals_100 = datas[4] - np.mean(datas[4])\n",
    "\n",
    "    # Combine residuals from all conditions\n",
    "    all_residuals = np.concatenate([residuals_0, residuals_25, residuals_50, residuals_75, residuals_100])\n",
    "\n",
    "    # Perform Shapiro-Wilk test on residuals\n",
    "    stat, p = shapiro(all_residuals)\n",
    "    print(f'Shapiro-Wilk Test Statistic={stat:.4f}, p-value={p:.4f}')\n",
    "    if p > 0.05:\n",
    "        print(\"Residuals appear to be normally distributed (fail to reject H0).\")\n",
    "        stat, p = f_oneway(datas[0],datas[1],datas[2],datas[3],datas[4]) #see if p < 0.05, there is a significant difference\n",
    "        print(f'One-way ANOVA Statistic={stat:.4f}, p-value={p:.4f}')\n",
    "    else:\n",
    "        print(\"Residuals are NOT normally distributed (reject H0).\") \n",
    "         # Perform Friedman test\n",
    "        stat, p = friedmanchisquare(datas[0],datas[1],datas[2],datas[3],datas[4])\n",
    "        print(f'Friedman Test Statistic={stat:.4f}, p-value={p:.4f}') # If p < 0.05, there is a significant difference\n",
    "        if p <= 0.05:\n",
    "            print('Friedman Test: significant difference')\n",
    "            # post hoc test with Wilcoxon signed-rank tests with Bonferroni correction\n",
    "            comparisons = [\n",
    "                (\"25 vs. 0\", datas[1], datas[0]),\n",
    "                (\"50 vs. 0\", datas[2], datas[0]),\n",
    "                (\"75 vs. 0\", datas[3], datas[0]),\n",
    "                (\"25 vs. 100\", datas[1], datas[4]),\n",
    "                (\"50 vs. 100\", datas[2], datas[4]),\n",
    "                (\"75 vs. 100\", datas[3], datas[4])\n",
    "            ]\n",
    "            p_values = []\n",
    "            for name, cond1, cond2 in comparisons:\n",
    "                stat, p = wilcoxon(cond1, cond2)\n",
    "                p_values.append(p)\n",
    "            # Apply Bonferroni correction (dividing α by 6)\n",
    "            corrected_p_values = smm.multipletests(p_values, method='bonferroni')[1]\n",
    "            for (name, _, _), p_raw, p_corr in zip(comparisons, p_values, corrected_p_values):\n",
    "                print(f'{name}: Raw p-value = {p_raw:.4f}, Bonferroni-corrected p-value = {p_corr:.4f}')\n",
    "        else:\n",
    "            print('Friedman Test: no significant difference')"
   ]
  },
  {
   "cell_type": "code",
   "execution_count": null,
   "metadata": {},
   "outputs": [],
   "source": [
    "# if comparing every pairs (10 comarisons)\n",
    "\n",
    "            # # post hoc test with Wilcoxon signed-rank tests with Bonferroni correction\n",
    "            # pairs = list(combinations(range(len(datas)), 2))\n",
    "            # p_values = []\n",
    "            # pair_labels = []\n",
    "            # for i, j in pairs:\n",
    "            #     stat, p = wilcoxon(datas[i], datas[j])\n",
    "            #     p_values.append(p)\n",
    "            #     pair_labels.append(f\"{conditions[i]} vs {conditions[j]}\")\n",
    "\n",
    "            # # Print uncorrected p-values\n",
    "            # # for pair, p in zip(pair_labels, p_values):\n",
    "            #     # print(f'Wilcoxon test {pair}: p-value={p:.4f}')\n",
    "\n",
    "            # # Apply Bonferroni correction, divides the significance level (0.05) by the number of comparisons (10)\n",
    "            # corrected_p_values = smm.multipletests(p_values, method='bonferroni')[1]\n",
    "\n",
    "            # # Print Bonferroni-corrected p-values\n",
    "            # print(\"\\nBonferroni-Corrected P-values:\")\n",
    "            # for pair, p_corr in zip(pair_labels, corrected_p_values):\n",
    "            #     print(f'{pair}: p-value={p_corr:.4f}')"
   ]
  },
  {
   "cell_type": "markdown",
   "metadata": {},
   "source": [
    "# Performance"
   ]
  },
  {
   "cell_type": "code",
   "execution_count": 167,
   "metadata": {},
   "outputs": [],
   "source": [
    "ALL = []\n",
    "last_trials = trial_num - 5 # removing the first 5 trials "
   ]
  },
  {
   "cell_type": "code",
   "execution_count": 168,
   "metadata": {},
   "outputs": [
    {
     "name": "stdout",
     "output_type": "stream",
     "text": [
      "Shapiro-Wilk Test Statistic=0.6412, p-value=0.0000\n",
      "Residuals are NOT normally distributed (reject H0).\n",
      "Friedman Test Statistic=14.5067, p-value=0.0058\n",
      "Friedman Test: significant difference\n",
      "25 vs. 0: Raw p-value = 0.0256, Bonferroni-corrected p-value = 0.1534\n",
      "50 vs. 0: Raw p-value = 0.0012, Bonferroni-corrected p-value = 0.0070\n",
      "75 vs. 0: Raw p-value = 0.1070, Bonferroni-corrected p-value = 0.6420\n",
      "25 vs. 100: Raw p-value = 0.8904, Bonferroni-corrected p-value = 1.0000\n",
      "50 vs. 100: Raw p-value = 0.2769, Bonferroni-corrected p-value = 1.0000\n",
      "75 vs. 100: Raw p-value = 0.8040, Bonferroni-corrected p-value = 1.0000\n"
     ]
    }
   ],
   "source": [
    "# (1) time domain r-y\n",
    "datas = []\n",
    "for cond in range(condition_num):\n",
    "    datas.append( np.mean((rs[:,cond,-last_trials:] - ys[:,cond,-last_trials:])**2,axis = (1,2)) )#mean across all trials and timestamps\n",
    "stats_test(datas)\n",
    "ALL.append(datas)"
   ]
  },
  {
   "cell_type": "code",
   "execution_count": 169,
   "metadata": {},
   "outputs": [
    {
     "name": "stdout",
     "output_type": "stream",
     "text": [
      "Shapiro-Wilk Test Statistic=0.7904, p-value=0.0000\n",
      "Residuals are NOT normally distributed (reject H0).\n",
      "Friedman Test Statistic=15.8400, p-value=0.0032\n",
      "Friedman Test: significant difference\n",
      "25 vs. 0: Raw p-value = 0.2293, Bonferroni-corrected p-value = 1.0000\n",
      "50 vs. 0: Raw p-value = 0.0054, Bonferroni-corrected p-value = 0.0322\n",
      "75 vs. 0: Raw p-value = 0.1514, Bonferroni-corrected p-value = 0.9086\n",
      "25 vs. 100: Raw p-value = 0.6387, Bonferroni-corrected p-value = 1.0000\n",
      "50 vs. 100: Raw p-value = 0.8904, Bonferroni-corrected p-value = 1.0000\n",
      "75 vs. 100: Raw p-value = 0.8904, Bonferroni-corrected p-value = 1.0000\n"
     ]
    }
   ],
   "source": [
    "# (2) freq domain, stimulated freqs\n",
    "datas = []\n",
    "indices = IX[:3] # non-stimulus freqs below 0.25hz \n",
    "TF = Rs[:,:,-last_trials:,indices] - Ys[:,:,-last_trials:,indices] # R-Y below 0.25 Hz, all freqs\n",
    "for cond in range(condition_num):\n",
    "    datas.append( np.mean((np.abs(TF[:,cond,:,:]))**2, axis = (1,2)) )#mean across all trials and freqs\n",
    "stats_test(datas)\n",
    "ALL.append(datas)"
   ]
  },
  {
   "cell_type": "code",
   "execution_count": 170,
   "metadata": {},
   "outputs": [
    {
     "name": "stdout",
     "output_type": "stream",
     "text": [
      "Shapiro-Wilk Test Statistic=0.5887, p-value=0.0000\n",
      "Residuals are NOT normally distributed (reject H0).\n",
      "Friedman Test Statistic=15.9467, p-value=0.0031\n",
      "Friedman Test: significant difference\n",
      "25 vs. 0: Raw p-value = 0.1205, Bonferroni-corrected p-value = 0.7233\n",
      "50 vs. 0: Raw p-value = 0.0043, Bonferroni-corrected p-value = 0.0256\n",
      "75 vs. 0: Raw p-value = 0.5245, Bonferroni-corrected p-value = 1.0000\n",
      "25 vs. 100: Raw p-value = 0.6788, Bonferroni-corrected p-value = 1.0000\n",
      "50 vs. 100: Raw p-value = 0.0054, Bonferroni-corrected p-value = 0.0322\n",
      "75 vs. 100: Raw p-value = 0.5614, Bonferroni-corrected p-value = 1.0000\n"
     ]
    }
   ],
   "source": [
    "# (3) freq domain, non-stimulated freqs\n",
    "datas = []\n",
    "indices = np.setdiff1d(np.arange(0,11), IX) # non-stimulus freqs below 0.25hz \n",
    "TF = Rs[:,:,-last_trials:,indices] - Ys[:,:,-last_trials:,indices] # R-Y below 0.25 Hz, all freqs\n",
    "for cond in range(condition_num):\n",
    "    datas.append( np.mean((np.abs(TF[:,cond,:,:]))**2, axis = (1,2)) )#mean across all trials and freqs\n",
    "stats_test(datas)\n",
    "ALL.append(datas)"
   ]
  },
  {
   "cell_type": "code",
   "execution_count": 171,
   "metadata": {},
   "outputs": [
    {
     "name": "stdout",
     "output_type": "stream",
     "text": [
      "Shapiro-Wilk Test Statistic=0.6559, p-value=0.0000\n",
      "Residuals are NOT normally distributed (reject H0).\n",
      "Friedman Test Statistic=7.4667, p-value=0.1132\n",
      "Friedman Test: no significant difference\n"
     ]
    }
   ],
   "source": [
    "# (4) F-M^-1\n",
    "datas = []\n",
    "TF = F[:,:,-last_trials//2:,:3] - (M**(-1))[:3] # at stim below 0.25 Hz\n",
    "for cond in range(condition_num):\n",
    "    datas.append( np.mean((np.abs(TF[:,cond,:,:]))**2, axis = (1,2)) )#mean across all trials and freqs\n",
    "stats_test(datas)\n",
    "ALL.append(datas)"
   ]
  },
  {
   "cell_type": "code",
   "execution_count": 172,
   "metadata": {},
   "outputs": [
    {
     "name": "stdout",
     "output_type": "stream",
     "text": [
      "(15, 5)\n",
      "Shapiro-Wilk Test Statistic=0.8108, p-value=0.0000\n",
      "Residuals are NOT normally distributed (reject H0).\n",
      "Friedman Test Statistic=32.9067, p-value=0.0000\n",
      "Friedman Test: significant difference\n",
      "25 vs. 0: Raw p-value = 0.8469, Bonferroni-corrected p-value = 1.0000\n",
      "50 vs. 0: Raw p-value = 0.7615, Bonferroni-corrected p-value = 1.0000\n",
      "75 vs. 0: Raw p-value = 0.0256, Bonferroni-corrected p-value = 0.1534\n",
      "25 vs. 100: Raw p-value = 0.0015, Bonferroni-corrected p-value = 0.0092\n",
      "50 vs. 100: Raw p-value = 0.0001, Bonferroni-corrected p-value = 0.0004\n",
      "75 vs. 100: Raw p-value = 0.8040, Bonferroni-corrected p-value = 1.0000\n",
      "\n",
      "\n",
      "Shapiro-Wilk Test Statistic=0.9696, p-value=0.0682\n",
      "Residuals appear to be normally distributed (fail to reject H0).\n",
      "One-way ANOVA Statistic=0.4061, p-value=0.8037\n"
     ]
    }
   ],
   "source": [
    "# (5) phase margin of open loop TF L = BM\n",
    "PM = np.zeros((subject_num,condition_num))\n",
    "GM = np.zeros((subject_num,condition_num))\n",
    "for sub in range(subject_num):\n",
    "    for cond in range(condition_num):\n",
    "        L = B[sub,cond,-last_trials:,2] * M[2] #all trial @ crossover freq (at 0.25Hz)\n",
    "        PM[sub,cond] = np.mean(np.pi + np.angle(L)) #mean across trials\n",
    "        GM[sub,cond] = np.mean(np.abs(L)) #mean across trials #in dB?\n",
    "print(PM.shape)\n",
    "stats_test([PM[:,0],PM[:,1],PM[:,2],PM[:,3],PM[:,4]])\n",
    "ALL.append(datas)\n",
    "print('\\n')\n",
    "\n",
    "# (6) gain margin\n",
    "stats_test([GM[:,0],GM[:,1],GM[:,2],GM[:,3],GM[:,4]])\n",
    "ALL.append(datas)"
   ]
  },
  {
   "cell_type": "markdown",
   "metadata": {},
   "source": [
    "## inputs at non stim"
   ]
  },
  {
   "cell_type": "code",
   "execution_count": null,
   "metadata": {},
   "outputs": [
    {
     "name": "stdout",
     "output_type": "stream",
     "text": [
      "Shapiro-Wilk Test Statistic=0.6983, p-value=0.0000\n",
      "Residuals are NOT normally distributed (reject H0).\n",
      "Friedman Test Statistic=10.2933, p-value=0.0358\n",
      "Friedman Test: significant difference\n",
      "25 vs. 0: Raw p-value = 0.0125, Bonferroni-corrected p-value = 0.0747\n",
      "50 vs. 0: Raw p-value = 0.0012, Bonferroni-corrected p-value = 0.0070\n",
      "75 vs. 0: Raw p-value = 0.1514, Bonferroni-corrected p-value = 0.9086\n",
      "25 vs. 100: Raw p-value = 0.9780, Bonferroni-corrected p-value = 1.0000\n",
      "50 vs. 100: Raw p-value = 0.0833, Bonferroni-corrected p-value = 0.4995\n",
      "75 vs. 100: Raw p-value = 0.8469, Bonferroni-corrected p-value = 1.0000\n"
     ]
    }
   ],
   "source": [
    "# inputs at non-stimulated freqs\n",
    "datas = []\n",
    "# last_trials = 9\n",
    "indices = np.setdiff1d(np.arange(0,11), IX) # non-stimulus freqs below 0.25hz \n",
    "TF = Us[:,:,-last_trials:,indices] # below 0.25 Hz\n",
    "for cond in range(condition_num):\n",
    "    datas.append( np.mean((np.abs(TF[:,cond,:,:]))**2, axis = (1,2)) )#mean across all trials and freqs\n",
    "stats_test(datas)\n",
    "ALL.append(datas)"
   ]
  },
  {
   "cell_type": "code",
   "execution_count": 316,
   "metadata": {},
   "outputs": [
    {
     "data": {
      "image/png": "[encoded data removed]",
      "text/plain": [
       "<Figure size 288x216 with 1 Axes>"
      ]
     },
     "metadata": {
      "needs_background": "light"
     },
     "output_type": "display_data"
    }
   ],
   "source": [
    "labels = conditions #slider : EMG\n",
    "boxcolors = [colors['BLUE'],'#2ca086',colors['GREEN'],'#88a02c',colors['GOLD']]\n",
    "\n",
    "fig,ax = plt.subplots(figsize=(4,3))\n",
    "bplot = ax.boxplot(datas, widths = 0.4,patch_artist=True,labels=labels, showfliers=False)\n",
    "for patch, color in zip(bplot['boxes'], boxcolors): # fill with colors\n",
    "    patch.set_facecolor(color)\n",
    "for median in bplot['medians']:\n",
    "    median.set_color('black')\n",
    "# ax.set_xlabel('Manual : EMG',fontsize = 14) #add x axis labels\n",
    "ax.set_xlabel(r'% EMG ($100*\\alpha$)',fontsize = 14) #add x axis labels\n",
    "face0 = ax.axvspan(1.5,4.5, facecolor='green', alpha=0.15)\n",
    "ax.set_ylabel(r'$||u_x||^2$',fontsize = 16) # add y axis label\n",
    "ax.grid('on',zorder=-1)\n",
    "\n",
    "larger_value = np.max([np.percentile(datas[0], 90),np.percentile(datas[2], 90)]) # significant difference\n",
    "ax.plot([1,3], [larger_value-0.004,larger_value-0.004], color='black', lw=2)\n",
    "ax.text(2, larger_value-0.004, r'$*p<0.01$', ha='center', va='bottom', fontsize=13, color='black')\n",
    "\n",
    "# larger_value = np.max([np.percentile(datas[2], 90),np.percentile(datas[4], 90)]) # significant difference\n",
    "# ax.plot([3,5], [larger_value-0.004,larger_value-0.004], color='black', lw=2)\n",
    "# ax.text(4.25, larger_value-0.004, r'$p = 0.07$', ha='center', va='bottom', fontsize=13, color='black')\n",
    "\n",
    "# ax.set_title('average |R-Y| below crossover freqs (N = 15)')\n",
    "plt.tight_layout()\n",
    "# fig.savefig('example_sub1.svg')\n",
    "plt.show()"
   ]
  },
  {
   "cell_type": "markdown",
   "metadata": {},
   "source": [
    "## plot"
   ]
  },
  {
   "cell_type": "code",
   "execution_count": 232,
   "metadata": {},
   "outputs": [
    {
     "data": {
      "image/png": "[encoded data removed]",
      "text/plain": [
       "<Figure size 864x360 with 6 Axes>"
      ]
     },
     "metadata": {
      "needs_background": "light"
     },
     "output_type": "display_data"
    }
   ],
   "source": [
    "labels = conditions #slider : EMG\n",
    "boxcolors = [colors['BLUE'],'#2ca086',colors['GREEN'],'#88a02c',colors['GOLD']]\n",
    "\n",
    "def boxplot(ax,datas):\n",
    "    bplot = ax.boxplot(datas, widths = 0.4,patch_artist=True,labels=labels, showfliers=False)\n",
    "    for patch, color in zip(bplot['boxes'], boxcolors): # fill with colors\n",
    "        patch.set_facecolor(color)\n",
    "    for median in bplot['medians']:\n",
    "        median.set_color('black')\n",
    "    face0 = ax.axvspan(1.5,4.5, facecolor='green', alpha=0.15)\n",
    "    ax.grid('on',zorder=-1)\n",
    "\n",
    "fig,axs = plt.subplots(2,3,figsize=(12,5))\n",
    "ax = axs[0,0]\n",
    "datas = ALL[0]\n",
    "boxplot(ax,datas)\n",
    "ax.set_ylabel(r'$||r-y||^2$',fontsize = 14)\n",
    "larger_value = np.max([np.percentile(datas[0], 90),np.percentile(datas[2], 90)]) # significant difference\n",
    "ax.plot([1, 3], [larger_value-0.015,larger_value-0.015], color='black', lw=2)\n",
    "ax.text(2.25, larger_value-0.014, r'$*p=0.007$', ha='center', va='bottom', fontsize=13, color='black')\n",
    "\n",
    "ax = axs[0,1]\n",
    "datas = ALL[1]\n",
    "boxplot(ax,datas)\n",
    "ax.set_ylabel(r'$||R-Y||^2$''\\n''at stimulated',fontsize = 14)\n",
    "ax.ticklabel_format(axis='y', style='sci', scilimits=(0,0))\n",
    "larger_value = np.max([np.percentile(datas[0], 90),np.percentile(datas[2], 90)]) # significant difference\n",
    "ax.plot([1, 3], [larger_value-0.0005,larger_value-0.0005], color='black', lw=2)\n",
    "ax.text(2.5, larger_value-0.0004, r'$*p=0.032$', ha='center', va='bottom', fontsize=13, color='black')\n",
    "\n",
    "ax = axs[0,2]\n",
    "datas = ALL[2]\n",
    "boxplot(ax,datas)\n",
    "ax.set_ylabel(r'$||R-Y||^2$''\\n''at nonstimulated',fontsize = 14)\n",
    "ax.ticklabel_format(axis='y', style='sci', scilimits=(0,0))\n",
    "larger_value = np.max([np.percentile(datas[0], 90),np.percentile(datas[2], 90)]) # significant difference\n",
    "ax.plot([1, 3], [larger_value-0.0005,larger_value-0.0005], color='black', lw=2)\n",
    "ax.text(2.5, larger_value-0.00045, r'$*p=0.026$', ha='center', va='bottom', fontsize=13, color='black')\n",
    "\n",
    "larger_value = np.max([np.percentile(datas[2], 90),np.percentile(datas[4], 90)]) # significant difference\n",
    "ax.plot([3, 5], [larger_value-0.004,larger_value-0.004], color='black', lw=2)\n",
    "ax.text(4.25, larger_value-0.004, r'$*p=0.032$', ha='center', va='bottom', fontsize=13, color='black')\n",
    "\n",
    "ax = axs[1,0]\n",
    "datas = ALL[3]\n",
    "boxplot(ax,datas)\n",
    "ax.set_ylabel(r'$||F-M^{-1}||^2$',fontsize = 14)\n",
    "ax.set_xlabel(r'% EMG ($100*\\alpha$)',fontsize = 14) #add x axis labels\n",
    "\n",
    "ax = axs[1,1]\n",
    "datas = ALL[4]\n",
    "boxplot(ax,datas)\n",
    "ax.set_ylabel('Phase margin''\\n''(radians)',fontsize = 14)\n",
    "ax.set_xlabel(r'% EMG ($100*\\alpha$)',fontsize = 14) #add x axis labels\n",
    "larger_value = np.max([np.percentile(datas[1], 90),np.percentile(datas[4], 90)]) # significant difference\n",
    "ax.plot([2, 5], [larger_value-2,larger_value-2], color='black', lw=2)\n",
    "ax.text(3, larger_value-2, r'$*p<0.01$', ha='center', va='bottom', fontsize=13, color='black')\n",
    "\n",
    "larger_value = np.max([np.percentile(datas[2], 90),np.percentile(datas[4], 90)]) # significant difference\n",
    "ax.plot([3, 5], [larger_value,larger_value], color='black', lw=2)\n",
    "ax.text(4.25, larger_value, r'$**p<0.001$', ha='center', va='bottom', fontsize=13, color='black')\n",
    "\n",
    "ax = axs[1,2]\n",
    "datas = ALL[5]\n",
    "boxplot(ax,datas)\n",
    "ax.set_ylabel('Gain margin',fontsize = 14)\n",
    "ax.set_xlabel(r'% EMG ($100*\\alpha$)',fontsize = 14) #add x axis labels\n",
    "\n",
    "plt.tight_layout()\n",
    "# fig.savefig('example_sub1.svg')\n",
    "plt.show()"
   ]
  },
  {
   "cell_type": "code",
   "execution_count": null,
   "metadata": {},
   "outputs": [],
   "source": []
  }
 ],
 "metadata": {
  "kernelspec": {
   "display_name": "base",
   "language": "python",
   "name": "python3"
  },
  "language_info": {
   "codemirror_mode": {
    "name": "ipython",
    "version": 3
   },
   "file_extension": ".py",
   "mimetype": "text/x-python",
   "name": "python",
   "nbconvert_exporter": "python",
   "pygments_lexer": "ipython3",
   "version": "3.8.3"
  }
 },
 "nbformat": 4,
 "nbformat_minor": 2
}
